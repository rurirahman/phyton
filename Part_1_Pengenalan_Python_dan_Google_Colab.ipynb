{
  "cells": [
    {
      "cell_type": "markdown",
      "metadata": {
        "id": "sqCD1r_j9ANz"
      },
      "source": [
        "# ALGORITMA\n",
        "> \"*Algoritma adalah serangkaian langkah-langkah yang digunakan untuk menyelesaikan masalah atau menyelesaikan tugas.*\"\n",
        "\n",
        "Secara sederhana, algoritma adalah metode untuk menyelesaikan masalah dengan mengatur urutan langkah-langkah yang harus dilakukan. Algoritma digunakan secara luas di berbagai bidang, seperti:\n",
        "- ***Computer Science***;\n",
        "- **Matematika**;\n",
        "- **Riset Operasi**;\n",
        "- ***Artificial Intelligence***; dan\n",
        "- ***Data Science***.\n",
        "\n",
        "Agar bisa menyelesaikan masalah dengan efektif, sebuah algoritma terdiri dari instruksi-instruksi yang terstruktur, berurutan, dan tidak ambigu, sehingga prosesnya konsisten dan menghasilkan output yang diharapkan. Instruksi-instruksi dalam algoritma idealnya memiliki karakteristik berikut:\n",
        "1. **Input yang Jelas**: Setiap input yang dibutuhkan harus ditentukan dengan jelas;\n",
        "2. **Tidak Ambigu**: Setiap langkah harus jelas agar tidak menimbulkan penafsiran ganda;\n",
        "3. **Berakhir**: Algoritma harus selesai setelah sejumlah langkah yang terbatas;\n",
        "4. **Output yang Jelas**: Algoritma harus menghasilkan output yang sudah ditentukan dengan jelas;\n",
        "5. **Efektif**: Algoritma harus mampu menyelesaikan masalah sesuai yang diharapkan;\n",
        "6. **Independen Bahasa**: Algoritma harus bisa diterjemahkan ke berbagai bahasa pemrograman, tanpa bergantung pada satu bahasa tertentu.\n",
        "\n",
        "## Mengapa Algoritma Penting?\n",
        "Di zaman yang serba digital ini, memahami algoritma sangat penting, baik untuk mereka yang bekerja di bidang teknologi maupun dalam kehidupan sehari-hari. Banyak aplikasi yang kita gunakan setiap hari juga bekerja dengan algoritma. Misalnya, aplikasi pemesanan makanan mengatur proses dari memilih makanan hingga mengantarnya ke rumah kita dengan langkah-langkah yang mirip dengan algoritma memasak atau belanja bulanan. Memahami Algoritma akan membantu kita membuat keputusan yang lebih baik, bekerja lebih efisien, dan memahami proses di sekitar kita dengan lebih baik.\n",
        "\n"
      ]
    },
    {
      "cell_type": "markdown",
      "metadata": {
        "id": "noHUIEmAGZav"
      },
      "source": [
        "## Algoritma Dalam Keseharian\n",
        "Pada dasarnya algoritma bukanlah sesuatu yang asing, hampir setiap aspek dalam keseharian kita akan berurusan dengan algoritma. Permasalahan sehari-hari yang kita hadapi biasanya membutuhkan penanganan logis dan sistematis, maka secara natural algoritma akan selalu dapat diterapkan. Selain membantu menyederhanakan permasalahan yang kompleks, algoritma juga memungkinkan replikasi proses pemecahan masalah oleh individu lain yang menghadapi permasalahan serupa serta memastikan output yang sama akan dihasilkan, terlepas dari siapapun yang melaksanakan proses.\n",
        "\n",
        "Resep Masakan adalah ilustrasi paling nyata dari penerapan algoritma dalam kehidupan sehari-hari. Mengkonsumsi makanan yang telah dimasak adalah salah satu cara untuk memenuhi kebutuhan energi dan melangsungkan kehidupan. Untuk memastikan bahwa makanan yang dikonsumsi memenuhi standar selera serta nutrisi berdasarkan bahan baku tertentu, maka disusunlah tata cara memasak yang dituangkan ke dalam sebuah resep. Dengan adanya resep tersebut, maka cita rasa dan nutrisi yang serupa dapat disediakan di meja setiap rumahtangga yang menggunakannya.\n",
        "\n",
        "Tidak hanya Resep seperti dideskripsikan di atas, masih banyak hal dari keseharian kita yang sebenarnya merupakan ilustrasi penerapan dari algoritma. Untuk membantu dalam memahami bagaimana algoritma diterapkan dalam berbagai pemecahan masalah, di bawah berikut telah disusun beberapa ilustrasi lain secara lebih terperinci."
      ]
    },
    {
      "cell_type": "markdown",
      "metadata": {
        "id": "Ga-5VwgRvsnr"
      },
      "source": [
        "### Memasak Mie Goreng Instan\n",
        "Memasak mie goreng instan adalah satu-satunya keterampilan memasak yang diperlukan bagi seorang pria Indonesia sejati untuk bisa bertahan hidup.\n",
        "\n",
        "```\n",
        "Nyalakan kompor\n",
        "Isi panci dengan air bersih\n",
        "Taruh panci berisi air di kompor yang menyala\n",
        "Buka bungkus mie goreng\n",
        "Ambil mangkuk dan tuangkan bumbu instan\n",
        "Jika air di panci mendidih\n",
        "    Masukkan mie ke dalam panci\n",
        "    Jika waktu rebus masih di bawah 3 menit\n",
        "        Biarkan mie di panci\n",
        "    Matikan kompor\n",
        "    Angkat panci\n",
        "Pindahkan mie dari panci ke saringan\n",
        "Tiriskan mie di saringan\n",
        "Tuang mie yang sudah ditiriskan ke mangkuk\n",
        "Aduk mie hingga bumbu merata\n",
        "Sajikan mie goreng\n",
        "```"
      ]
    },
    {
      "cell_type": "markdown",
      "source": [
        "**Coba pikirkan:** Apakah ada efisiensi yang dapat dilakukan terhadap algoritma di atas??"
      ],
      "metadata": {
        "id": "HlbIPbNe9L3Y"
      }
    },
    {
      "cell_type": "markdown",
      "metadata": {
        "id": "G07QWLNqGo47"
      },
      "source": [
        "### Belanja Bulanan Keluarga\n",
        "\n",
        "Dalam rangka memenuhi kebutuhannya, setiap awal bulan sebuah keluarga harus melakukan belanja bulanan. Sebelum berbelanja, keluarga tersebut akan membuat sebuah daftar belanja berisikan berbagai barang serta jumlah yang diperkirakan akan dibutuhkan olehnya selama sebulan ke depan. Untuk memastikan agar siapapun yang berbelanja akan membawa pulang berbagai barang yang sesuai dengan kebutuhan, maka keluarga tersebut membuat sebuah prosedur belanja bulanan seperti berikut ini:\n",
        "\n",
        "```\n",
        "Buka `Daftar Belanja`\n",
        "Jika seluruh `Item` pada `Daftar Belanja` sudah tercoret\n",
        "    Batalkan belanja bulanan\n",
        "Ambil `Trolley`\n",
        "Untuk setiap `Item` pada `Daftar Belanja`\n",
        "    Cari dan kumpulkan setiap `Merek` tersedia dari `Item`\n",
        "    Buat `Daftar Merek` berisi setiap `Merek` dari `Item` yang tersedia\n",
        "    Jika jumlah `Merek` pada `Daftar Merek` lebih dari 1\n",
        "        Untuk setiap `Merek` pada `Daftar Merek`\n",
        "            Hitung `Harga per satuan` dari `Merek`\n",
        "            Proses `Merek` selanjutnya\n",
        "        Urutkan `Merek` pada `Daftar Merek` berdasarkan `Harga per satuan`\n",
        "        Masukkan `Item` dengan `Harga per satuan` paling rendah ke `Trolley` sebanyak jumlah tertera pada `Daftar Belanja`\n",
        "        Coret `Item` pada `Daftar Belanja`\n",
        "    Jika `Merek` pada `Ragam Item` hanya 1\n",
        "        Masukkan `Item` ke `Trolley` sebanyak jumlah tertera pada `Daftar Belanja`\n",
        "        Coret `Item` pada `Daftar Belanja`\n",
        "    Lanjutkan pencarian ke `Item` berikutnya\n",
        "Bawa `Trolley` ke kasir dan lakukan pembayaran\n",
        "Jika terdapat `Item` pada `Daftar Belanja` yang belum tercoret\n",
        "    Pergi ke toko lain, ulangi proses belanja dari awal\n",
        "```"
      ]
    },
    {
      "cell_type": "markdown",
      "source": [
        "**Coba pikirkan:** Adakah proses yang perlu ditambahkan/dikurangi dari algoritma di atas??"
      ],
      "metadata": {
        "id": "lpmlV-yexqfs"
      }
    },
    {
      "cell_type": "markdown",
      "metadata": {
        "id": "pevDAA3WNUx2"
      },
      "source": [
        "### Sensus Tumbuh Kembang Anak\n",
        "Dalam rangka melakukan analisis kecukupan gizi siswa Sekolah Dasar (SD) di sebuah Kabupaten, maka setiap Kepala SD di Kabupaten tersebut diperintahkan untuk melakukan Sensus **Indikator Tumbuh Kembang** anak terhadap seluruh murid yang terdaftar di sekolahnya. Untuk memastikan agar pelaksanaan dan output dari sensus sesuai dengan seharusnya, maka pelaksana sensus menetapkan sebuah prosedur sederhana yang harus dipatuhi oleh setiap kepala sekolah seperti berikut ini:\n",
        "\n",
        "```\n",
        "Buka `Daftar Murid`, ambil data dari kolom `Nama`, `Jenis Kelamin`, dan `Tanggal Lahir`\n",
        "Untuk setiap `Murid` pada `Daftar Murid`\n",
        "    Panggil `Murid` menghadap ke UKS\n",
        "    Untuk setiap `Indikator` pada `Indikator Tumbuh Kembang`\n",
        "        Ukur dan catat `Indikator` dari `Murid`\n",
        "        Lanjutkan pengukuran dan pencatatan untuk `Indikator` berikutnya\n",
        "    Tandai `Murid` sudah disurvey pada `Daftar Murid`\n",
        "    Lanjutkan proses ke `Murid` berikutnya\n",
        "Hitung `Umur` seluruh `Murid` berdasarkan `Tanggal Lahir`\n",
        "Tentukan `Kelompok Usia` setiap `Murid` berdasarkan hasil perhitungan `Umur`\n",
        "Hitung statistics:\n",
        "  1. Kelompokkan data berdasarkan `Kelompok Usia`\n",
        "  2. Hitung `mean`, `min`, `max`, & `stdev` per `Kelompok Usia`\n",
        "```"
      ]
    },
    {
      "cell_type": "markdown",
      "source": [
        "\n",
        "## Kesimpulan\n",
        "Algoritma adalah bagian integral dari kehidupan kita, dari hal-hal sederhana seperti memasak mie hingga proses yang lebih kompleks dalam dunia teknologi. Dengan memahami dan menerapkan algoritma, kita dapat menyelesaikan masalah lebih efisien dan memastikan hasil yang konsisten."
      ],
      "metadata": {
        "id": "6fFrvX9mx_nH"
      }
    },
    {
      "cell_type": "markdown",
      "metadata": {
        "id": "zZ70T0LvlJMU"
      },
      "source": [
        "---\n",
        "# ALGORITMA DALAM DATA ANALYTICS : *SORTING*\n",
        "> \"*Sorting adalah proses untuk mengurutkan angka/karakter berdasarkan urutan tertentu (Descending/Ascending)*.\"\n",
        "\n",
        "*Sorting* merupakan salah satu proses terkomputerisasi dasar penting yang menjadi bagian integral dari algoritma proses terkomputerisasi lanjutan lainnya. Sebagai ilustrasi, dalam setiap algoritma *search*, proses *sorting* merupakan proses pertama yang dikenakan terhadap data, sebelum pencarian dilakukan. Seperti kata pepatah \"Banyak jalan menuju Roma\", demikian pula halnya dengan proses melakukan *sorting*, terdapat banyak alternatif algoritma yang dapat dipilih, mulai dari yang paling sederhana hingga yang teramat kompleks. Oleh karena itu, pemahaman atas bagaimana berbagai proses *sorting* yang berbeda dilakukan, merupakan sebuah langkah awal untuk mengerti berbagai alternatif algoritma lain yang tersedia untuk menyelesaikan suatu permasalahan.\n",
        "\n",
        "Meskipun banyak alternatif algoritma yang tersedia bagi proses *sorting*, namun mempertimbangkan sisi kemudahan pembelajaran dan keterbatasan waktu, maka pada *exercise* ini hanya akan dilakukan pembahasan terkait dua algoritma *sorting* klasik, yaitu:\n",
        "1. ***Bubble Sorting***; dan\n",
        "2. ***Quick Sorting***.\n",
        "\n",
        "Pembahasan akan dimulai dengan melakukan proses *sorting* terhadap sebuah deret acak dengan menggunakan kedua algoritma tersebut, untuk membandingkan *output* dari keduanya. Selanjutnya akan ditunjukkan dampak dari pemilihan masing-masing algoritma terhadap proses *sorting* yang dilakukan--baik terhadap cara pemrosesan maupun terhadap efisiensi dari proses."
      ]
    },
    {
      "cell_type": "markdown",
      "source": [
        "___\n",
        "> Untuk dapat mengikuti dan menjalankan beberapa *exercises* di bawah berikut, silahkan unduh modul [functions](https://drive.google.com/file/d/1dXMuGyplSRowrLZ-_tvowhavE7rJ3Xw_/view?usp=sharing) terlebih dahulu, lalu unggah modul tersebut ke `session storage` sehingga berbagai fungsi yang telah dibuat di dalamnya dapat di*import* ke `notebook` ini.\n",
        "___"
      ],
      "metadata": {
        "id": "tx2J11yIyphO"
      }
    },
    {
      "cell_type": "markdown",
      "metadata": {
        "id": "X1llBIIk5Plk"
      },
      "source": [
        "## Membuat Deret Angka Acak\n",
        "\n",
        "1. Dari modul `functions` panggil fungsi `generate_deret` dan `print_satu_persatu`;\n",
        "2. Buat deret berisi 10 angka bulat acak, dengan range nilai 0 - 100000, simpan pada variabel `deret`;\n",
        "3. Tampilkan `deret` ke layar menggunakan fungsi `print_satu_persatu`."
      ]
    },
    {
      "cell_type": "code",
      "execution_count": null,
      "metadata": {
        "id": "pO1fzVPu65eC"
      },
      "outputs": [],
      "source": [
        "# Import fungsi-fungsi yang diperlukan dari modul `functions`\n",
        "from functions import generate_deret, print_satu_persatu"
      ]
    },
    {
      "cell_type": "code",
      "source": [
        "type(generate_deret)"
      ],
      "metadata": {
        "id": "nlzqyFLiX22H"
      },
      "execution_count": null,
      "outputs": []
    },
    {
      "cell_type": "code",
      "source": [
        "help(generate_deret)"
      ],
      "metadata": {
        "id": "dYVCuh-KYEkX"
      },
      "execution_count": null,
      "outputs": []
    },
    {
      "cell_type": "code",
      "source": [
        "type(print_satu_persatu)"
      ],
      "metadata": {
        "id": "EcGhJDd9X69F"
      },
      "execution_count": null,
      "outputs": []
    },
    {
      "cell_type": "code",
      "source": [
        "help(print_satu_persatu)"
      ],
      "metadata": {
        "id": "Q6iI3AzSKR_C"
      },
      "execution_count": null,
      "outputs": []
    },
    {
      "cell_type": "code",
      "source": [
        "type(print)"
      ],
      "metadata": {
        "id": "LljyXQnAYThF"
      },
      "execution_count": null,
      "outputs": []
    },
    {
      "cell_type": "code",
      "source": [
        "help(print)"
      ],
      "metadata": {
        "id": "mZrUlDT0YW4F"
      },
      "execution_count": null,
      "outputs": []
    },
    {
      "cell_type": "code",
      "execution_count": null,
      "metadata": {
        "id": "NDZ98nq3Q1Jk"
      },
      "outputs": [],
      "source": [
        "# INPUTS:\n",
        "# 1. Tentukan jumlah elemen deret\n",
        "jml_elemen = 10\n",
        "# 2. Tentukan batas bawah nilai elemen\n",
        "bts_bawah = 0\n",
        "# 3. Tentukan batas atas nilai elemen\n",
        "bts_atas = 100000\n",
        "\n",
        "# PROSES & OUTPUT:\n",
        "# 1. Buat `deret`, masukkan variabel-variabel INPUTS ke fungsi `generate_deret`\n",
        "deret = generate_deret(jumlah_elemen=jml_elemen, batas_bawah=bts_bawah, batas_atas=bts_atas)\n",
        "# 2. Tampilkan `deret` menggunakan fungsi `print_satu_persatu`\n",
        "print_satu_persatu(jdl=\"Deret acak yang dihasilkan:\", deret=deret, margin=0)"
      ]
    },
    {
      "cell_type": "markdown",
      "metadata": {
        "id": "t-x12EBE7hEC"
      },
      "source": [
        "## Melakukan *Sorting*"
      ]
    },
    {
      "cell_type": "markdown",
      "metadata": {
        "id": "XKvxKH6MXcjm"
      },
      "source": [
        "### *Bubble Sorting*\n",
        "Algoritma *Bubble Sorting* menerapkan teknik ***Nested Loop***, dimana sebuah proses iterasi dilakukan di dalam sebuah iterasi lain. Sehingga algoritma ini akan dicirikan dengan terdapatnya sebuah ***inner loop*** dalam sebuah ***outer loop***. *Nested Loop* ini dilakukan untuk memastikan agar output yang dihasilkan dari proses sesuai dengan harapan.\n",
        "\n",
        "Pada *bubble sorting* ini, ***inner loop*** akan berupa pengulangan proses **perbandingan nilai dan penukaran posisi** untuk setiap elemen pada `deret` dari elemen paling kiri hingga paling kanan. Selanjutnya, setiap `deret` hasil ***inner loop*** akan diproses ulang sebanyak jumlah elemen pada `deret` oleh sebuah ***outer loop***.\n",
        "\n",
        "Adapun algoritma dimaksud, akan seperti dituliskan di bawah berikut:\n",
        "```\n",
        "Terima `deret` untuk disort\n",
        "Tentukan `banyaknya_proses` berdasarkan jumlah elemen pada `deret`\n",
        "Untuk setiap `urutan_proses` pada `banyaknya_proses`\n",
        "    Untuk setiap `posisi_elemen` pada `deret`\n",
        "        Jika elemen ke-(`posisi_elemen`) > elemen ke-(`posisi_elemen`+1)\n",
        "            Tukar posisi elemen ke-(`posisi_elemen`) dengan elemen ke-(`posisi_elemen`+1)\n",
        "        Lanjut ke `posisi_elemen` berikutnya\n",
        "    Lanjut ke `urutan_proses` berikutnya\n",
        "```"
      ]
    },
    {
      "cell_type": "code",
      "execution_count": null,
      "metadata": {
        "id": "JQbuiSur7oAw"
      },
      "outputs": [],
      "source": [
        "# Import fungsi-fungsi yang diperlukan dari `functions`\n",
        "from functions import bubble_sort"
      ]
    },
    {
      "cell_type": "code",
      "source": [
        "type(bubble_sort)"
      ],
      "metadata": {
        "id": "nPzG8Xz3ZRs0"
      },
      "execution_count": null,
      "outputs": []
    },
    {
      "cell_type": "code",
      "source": [
        "help(bubble_sort)"
      ],
      "metadata": {
        "id": "kG09YqklML7Z"
      },
      "execution_count": null,
      "outputs": []
    },
    {
      "cell_type": "code",
      "execution_count": null,
      "metadata": {
        "id": "-NIMcCOl8hiA"
      },
      "outputs": [],
      "source": [
        "# 1. Urut `deret` dengan fungsi `bubble_sort`, simpan pada variabel `deret_bubble_sort`\n",
        "deret_bubble_sort = bubble_sort(deret)\n",
        "# 2. Tampilkan Hasil sorting menggunakan fungsi `print_satu_persatu`\n",
        "print_satu_persatu(jdl=\"Hasil Bubble Sort:\", deret=deret_bubble_sort, margin=0)"
      ]
    },
    {
      "cell_type": "markdown",
      "metadata": {
        "id": "1M9tosuEfIAX"
      },
      "source": [
        "#### *Quick Sorting*\n",
        "Algoritma *Quick Sorting* menerapkan teknik ***Function Recursion***, dimana suatu fungsi akan memanggil dirinya sendiri untuk memproses *output*nya. Sehingga algoritma ini akan dicirikan dengan terdapatnya pemanggilan dirinya sendiri untuk memproses output yang dihasilkannya. Hal penting yang perlu ditentukan pada teknis *recursive* adalah untuk menghindari terjadinya pemrosesan tanpa akhir (*infinite*). Oleh karena itu pada algoritma ini akan diperlukan penetapan kondisi dimana proses *recursive* harus dihentikan.\n",
        "\n",
        "Proses *recursive* yang dilakukan pada saat menerapkan algoritma *quick sorting* melibatkan tiga proses berikut ini:\n",
        "1. Pemilihan sebuah elemen dari `deret` untuk bertindak sebagai **pivot**, biasanya dipilih dari elemen paling tengah, paling awal, atau paling ujung pada `deret`;\n",
        "2. Proses **partisi** yang memisahkan elemen deret menjadi tiga kelompok `deret`, yaitu `deret kiri`, `deret tengah`, dan `deret kanan`, dengan cara membandingkan nilai setiap elemen dengan nilai **pivot**; dan\n",
        "3. Memanggil dirinya sendiri untuk memproses setiap kelompok `deret kiri` dan `deret kanan` yang dihasilkan.\n",
        "\n",
        "Agar proses *recursive* di atas tidak berlangsung selamanya, maka perlu ditentukan sebuah kondisi penghentian proses, yaitu ketika jumlah elemen pada `deret` yang diproses lebih kecil atau sama dengan satu.\n",
        "\n",
        "Adapun algoritma dimaksud, akan seperti dituliskan di bawah berikut:\n",
        "```\n",
        "Terima `deret` untuk disort\n",
        "Jika jumlah elemen pada `deret`<=1\n",
        "    maka `deret` tidak perlu diproses\n",
        "Set nilai `pivot` = elemen `deret` paling tengah\n",
        "Pisah elemen `deret` bernilai < `pivot` ke deret `kiri`\n",
        "Pisah elemen `deret` bernilai == `pivot` ke deret `tengah`\n",
        "Pisah elemen `deret` bernilai > `pivot` ke deret `kanan`\n",
        "Lakukan langkah 1 - 7 terhadap `kiri`\n",
        "Lakukan langkah 1 - 7 terhadap `kanan`\n",
        "Gabungkan hasil langkah ke-8 dengan `tengah` dan hasil langkah ke-9\n",
        "```"
      ]
    },
    {
      "cell_type": "code",
      "execution_count": null,
      "metadata": {
        "id": "MPJyb-sJF123"
      },
      "outputs": [],
      "source": [
        "# Import fungsi-fungsi yang diperlukan dari `functions`\n",
        "from functions import quick_sort"
      ]
    },
    {
      "cell_type": "code",
      "source": [
        "type(quick_sort)"
      ],
      "metadata": {
        "id": "-Z9KR5tbXhmn"
      },
      "execution_count": null,
      "outputs": []
    },
    {
      "cell_type": "code",
      "source": [
        "help(quick_sort)"
      ],
      "metadata": {
        "id": "oZ5hcWMbMrS8"
      },
      "execution_count": null,
      "outputs": []
    },
    {
      "cell_type": "code",
      "execution_count": null,
      "metadata": {
        "id": "OOM5dl-dGCPX"
      },
      "outputs": [],
      "source": [
        "# 1. Urut deret dengan `quick_sort`, simpan pada variabel `deret_quick_sort`\n",
        "deret_quick_sort = quick_sort(deret)\n",
        "# 2. Tampilkan `deret_quick_sort` menggunakan print_satu_persatu\n",
        "print_satu_persatu(\"Hasil Quick sort:\", deret_quick_sort, 0)"
      ]
    },
    {
      "cell_type": "code",
      "source": [
        "deret_bubble_sort==deret_quick_sort"
      ],
      "metadata": {
        "id": "BPqy-85tM6W0"
      },
      "execution_count": null,
      "outputs": []
    },
    {
      "cell_type": "markdown",
      "metadata": {
        "id": "2O81cc8JKSI1"
      },
      "source": [
        "### Kesimpulan\n",
        "Penerapan algoritma baik `Bubble` maupun `Quick` *sorting* terhadap sebuah deret yang acak, akan menghasilkan output berupa deret terurut yang serupa!!"
      ]
    },
    {
      "cell_type": "markdown",
      "metadata": {
        "id": "xLr9H10Aw2zB"
      },
      "source": [
        "## Bubble Vs Quick Sorting"
      ]
    },
    {
      "cell_type": "markdown",
      "metadata": {
        "id": "uqkx3KGEHAEm"
      },
      "source": [
        "### Langkah Pemrosesan\n",
        "Perbedaan paling mendasar dari kedua algoritma *sorting* tersebut terletak pada berbagai langkah yang dilakukan untuk melakukan proses *sorting*. Bagian berikut di bawah ini akan mencoba untuk menunjukkan perbedaan antara kedua algoritma yang disebutkan, dari segi cara pemrosesan secara visual sederhana."
      ]
    },
    {
      "cell_type": "markdown",
      "metadata": {
        "id": "q0BMK9cJxJNC"
      },
      "source": [
        "#### Bubble Sorting\n",
        "Agar dapat memvisualisasikan langkah-langkah yang dilakukan ketika menjalankan algoritma *Bubble Sorting*, maka fungsi `bubble_sort` yang sudah kita pergunakan sebelumnya di atas telah dimodifikasi dan disimpan dalam fungsi baru bernama `bubble_sort_show`."
      ]
    },
    {
      "cell_type": "code",
      "execution_count": null,
      "metadata": {
        "id": "eZWki4bCK-Hs"
      },
      "outputs": [],
      "source": [
        "# 0. Import fungsi `bubble_sort_show` dari functions\n",
        "from functions import bubble_sort_show"
      ]
    },
    {
      "cell_type": "code",
      "source": [
        "type(bubble_sort_show)"
      ],
      "metadata": {
        "id": "yrRqjbHhZ5jE"
      },
      "execution_count": null,
      "outputs": []
    },
    {
      "cell_type": "code",
      "source": [
        "help(bubble_sort_show)"
      ],
      "metadata": {
        "id": "hJcMnkieOS_a"
      },
      "execution_count": null,
      "outputs": []
    },
    {
      "cell_type": "code",
      "execution_count": null,
      "metadata": {
        "id": "lcPw7ufMwTSr"
      },
      "outputs": [],
      "source": [
        "# 1. Setting margin Tampilan\n",
        "margin = 100\n",
        "# 2. Cetak garis Pembatas awal\n",
        "print(f\"{' DERET AWAL ':=<{margin}}\")\n",
        "# 3. Cetak Deret awal yang akan di sort\n",
        "print_satu_persatu(\"\", deret, margin)\n",
        "# 4. Cetak Garis Pembatas\n",
        "print(f\"\\n{'':=^{margin}}\")\n",
        "# 5. Visualisasikan proses Sorting dan simpan hasilnya pada `new_deret`\n",
        "new_deret = bubble_sort_show(deret, margin)\n",
        "# 6. Cetak Garis Pembatas\n",
        "print(f\"{' DERET AKHIR ':=>{margin}}\")\n",
        "# 7. Cetak hasil sorting\n",
        "print_satu_persatu(\"\", new_deret, margin)\n",
        "# 8. Cetak garis pembatas akhir\n",
        "print(f\"\\n{'':=^{margin}}\")"
      ]
    },
    {
      "cell_type": "markdown",
      "metadata": {
        "id": "1yq5Qv2kxGIs"
      },
      "source": [
        "#### Quick Sorting\n",
        "Serupa dengan sebelumnya, untuk memvisualisasikan proses yang terjadi di dalam sebuah algoritma *quick sorting*, maka telah dilakukan modifikasi terhadap fungsi `quick_sort` menjadi fungsi lain bernama `quick_sort_show`."
      ]
    },
    {
      "cell_type": "code",
      "execution_count": null,
      "metadata": {
        "id": "qaZTzrSlMCQ0"
      },
      "outputs": [],
      "source": [
        "# 0. Import fungsi `quick_sort` dari `functions`\n",
        "from functions import quick_sort_show"
      ]
    },
    {
      "cell_type": "code",
      "source": [
        "type(quick_sort_show)"
      ],
      "metadata": {
        "id": "1d0qtYI2akik"
      },
      "execution_count": null,
      "outputs": []
    },
    {
      "cell_type": "code",
      "source": [
        "help(quick_sort_show)"
      ],
      "metadata": {
        "id": "thEWiJbzPt6O"
      },
      "execution_count": null,
      "outputs": []
    },
    {
      "cell_type": "code",
      "execution_count": null,
      "metadata": {
        "id": "Zwpsz3TlCgH0"
      },
      "outputs": [],
      "source": [
        "# 1. Cetak garis Pembatas awal\n",
        "print(f\"{' DERET AWAL ':=<{margin}}\")\n",
        "# 2. Cetak Deret awal yang akan di sort\n",
        "print_satu_persatu(\"\", deret, margin)\n",
        "# 3. Beri Jeda Pemrosesan\n",
        "input()\n",
        "# 4. Lakukan Sorting dan simpan hasilnya pada `new_deret`\n",
        "new_deret = quick_sort_show(deret, margin)\n",
        "# 5. Cetak Garis Pembatas\n",
        "print(f\"{' DERET AKHIR ':=>{margin}}\")\n",
        "# 6. Cetak hasil sorting\n",
        "print_satu_persatu(\"\", new_deret, margin)\n",
        "# 7. Cetak garis pembatas akhir\n",
        "print(f\"\\n{'':=^{margin}}\")"
      ]
    },
    {
      "cell_type": "markdown",
      "metadata": {
        "id": "8CXWy9y_jPN3"
      },
      "source": [
        "#### `Elapsed Time`\n",
        "Penerapan algoritma berbeda, seperti dijelaskan sebelumnya, akan berdampat terhadap *Elapsed Time* (waktu pemrosesan) yang dipergunakan untuk menghasilkan output. Di bawah berikut telah disediakan sebuah pemrosesan yang ditujukan untuk melakukan pencatatan `elapsed_time` dari kedua algoritma *sorting* berdasarkan inputan jumlah elemen pada `deret` yang disorting."
      ]
    },
    {
      "cell_type": "code",
      "execution_count": null,
      "metadata": {
        "id": "rHC26AfONM4z"
      },
      "outputs": [],
      "source": [
        "# Import fungsi yang diperlukan\n",
        "from functions import elapsed_time, visual_sebaran"
      ]
    },
    {
      "cell_type": "code",
      "source": [
        "type(elapsed_time)"
      ],
      "metadata": {
        "id": "5jbzMjB1kNiL"
      },
      "execution_count": null,
      "outputs": []
    },
    {
      "cell_type": "code",
      "source": [
        "help(elapsed_time)"
      ],
      "metadata": {
        "id": "ZxQyn2JNkRiX"
      },
      "execution_count": null,
      "outputs": []
    },
    {
      "cell_type": "code",
      "source": [
        "type(visual_sebaran)"
      ],
      "metadata": {
        "id": "3pQYJmmfkUZX"
      },
      "execution_count": null,
      "outputs": []
    },
    {
      "cell_type": "code",
      "source": [
        "help(visual_sebaran)"
      ],
      "metadata": {
        "id": "k7I_zAMRkY0-"
      },
      "execution_count": null,
      "outputs": []
    },
    {
      "cell_type": "code",
      "execution_count": null,
      "metadata": {
        "id": "hkLUaUT3IqsV"
      },
      "outputs": [],
      "source": [
        "# INPUTS:\n",
        "# 1. Mintakan jumlah elemen pada deret dari User\n",
        "print(f\"{'Jumlah elemen pada deret': <35}\", end=\"\")\n",
        "jml = input(\" = \")\n",
        "# 3. Mintakan jumlah sampel pemrosesan yang akan dikumpulkan\n",
        "print(f\"{'Jumlah Simulasi dilakukan': <35}\", end=\"\")\n",
        "sim = input(\" = \")\n",
        "\n",
        "# PRE-PROCESSING:\n",
        "# Cast `jml` dan `sims` menjadi angka bulat\n",
        "jml_elemen = int(jml) if jml else None\n",
        "sims = int(sim) if sim else None\n",
        "\n",
        "# PROCESSING & OUTPUT:\n",
        "# 1. Generate `deret` berisi angka bulat acak\n",
        "deret = generate_deret(jml_elemen, 0, 100000)\n",
        "# 2. Proses Simulasi untuk kedua fungsi, catat data pada `dict_output`\n",
        "dict_output = {fungsi.__name__:[elapsed_time(fungsi, deret) for _ in range(sims)] for fungsi in [bubble_sort, quick_sort]}\n",
        "# Untuk setiap `key` pada `dict_output`\n",
        "for key in dict_output.keys():\n",
        "  # Rata-ratakan seluruh `value` pada list\n",
        "  average_et=sum(value for value in iter(dict_output[key]))/sims\n",
        "  # Buat Text `pesan`\n",
        "  pesan = f\"Average Elapsed Time %s\" % (key.title().replace(\"_\",\" \"))\n",
        "  # Tampilkan Pesan ke layar\n",
        "  print(f\"{pesan: <35} ={average_et: >9,.6f} detik/proses\")\n",
        "# Buat Visualisasi dari data yang dihasilkan dan tampilkan ke layar\n",
        "visual_sebaran(dict_output, f\"Sebaran Elapsed Time Sorting {jml_elemen:,.0f} Elemen {sims:,.0f} Kali Simulasi\")"
      ]
    },
    {
      "cell_type": "markdown",
      "metadata": {
        "id": "etS7xjoZ5TQS"
      },
      "source": [
        "### Simulasi *Time Complexity*"
      ]
    },
    {
      "cell_type": "code",
      "execution_count": null,
      "metadata": {
        "id": "-SXKW9sZqEO0"
      },
      "outputs": [],
      "source": [
        "# Import berbagai fungsi yang diperlukan\n",
        "from functions import generate_time_complexity as gtc, buat_visualisasi"
      ]
    },
    {
      "cell_type": "code",
      "source": [
        "type(gtc)"
      ],
      "metadata": {
        "id": "Wb1yAr0Sh2Es"
      },
      "execution_count": null,
      "outputs": []
    },
    {
      "cell_type": "code",
      "source": [
        "help(gtc)"
      ],
      "metadata": {
        "id": "2FJkWFc_h5F9"
      },
      "execution_count": null,
      "outputs": []
    },
    {
      "cell_type": "code",
      "execution_count": null,
      "metadata": {
        "id": "ldXs5AoC49k2"
      },
      "outputs": [],
      "source": [
        "# 1. Tentukan Jumlah elemen maksimum pada deret\n",
        "jml_elemen = 500\n",
        "# 2. Tentukan Jumlah Simulasi\n",
        "simulasi = 25\n",
        "# 3. Lakukan sampling time complexity yang diulang sebanyak `simulasi`\n",
        "df_raw, df_aggregate = gtc(quick_sort, bubble_sort, range(1, jml_elemen+1, 1), simulasi)\n",
        "# 4. Buat Visualisasi hasil pengolahan\n",
        "buat_visualisasi(df_aggregate, \"Time_Complexity.png\")"
      ]
    },
    {
      "cell_type": "code",
      "source": [
        "type(df_raw)"
      ],
      "metadata": {
        "id": "n4Lo2UTHk06Z"
      },
      "execution_count": null,
      "outputs": []
    },
    {
      "cell_type": "code",
      "source": [
        "help(df_raw)"
      ],
      "metadata": {
        "id": "QEnNWpzWlHPZ"
      },
      "execution_count": null,
      "outputs": []
    },
    {
      "cell_type": "code",
      "execution_count": null,
      "metadata": {
        "id": "nMP8sBiwhnyq"
      },
      "outputs": [],
      "source": [
        "# Cek raw data hasil simulasi\n",
        "df_raw"
      ]
    },
    {
      "cell_type": "code",
      "source": [
        "# Menampilkan hasil seluruh simulasi untuk N=1\n",
        "df_raw.loc[(1, slice(None)), :]"
      ],
      "metadata": {
        "id": "NGE6juyqgzke"
      },
      "execution_count": null,
      "outputs": []
    },
    {
      "cell_type": "code",
      "source": [
        "# Cek hasil simulasi ke-1 untuk seluruh N\n",
        "df_raw.loc[(slice(None), 1), :]"
      ],
      "metadata": {
        "id": "3_-C4qUCdtR7"
      },
      "execution_count": null,
      "outputs": []
    },
    {
      "cell_type": "code",
      "source": [
        "df_raw.info()"
      ],
      "metadata": {
        "id": "F6aKiX6Xopht"
      },
      "execution_count": null,
      "outputs": []
    },
    {
      "cell_type": "code",
      "source": [
        "df_raw.describe()"
      ],
      "metadata": {
        "id": "I8UL8EwYowGl"
      },
      "execution_count": null,
      "outputs": []
    },
    {
      "cell_type": "code",
      "source": [
        "df_raw.loc[(500, slice(None)), :].describe()"
      ],
      "metadata": {
        "id": "8P9cllkEpINF"
      },
      "execution_count": null,
      "outputs": []
    },
    {
      "cell_type": "code",
      "source": [
        "type(df_aggregate)"
      ],
      "metadata": {
        "id": "vIHBCOwmnTZN"
      },
      "execution_count": null,
      "outputs": []
    },
    {
      "cell_type": "code",
      "source": [
        "help(df_aggregate)"
      ],
      "metadata": {
        "id": "22aEKUYFnWOm"
      },
      "execution_count": null,
      "outputs": []
    },
    {
      "cell_type": "code",
      "source": [
        "# Cek olahan hasil simulasi\n",
        "df_aggregate"
      ],
      "metadata": {
        "id": "aBTqT57RdgA9"
      },
      "execution_count": null,
      "outputs": []
    },
    {
      "cell_type": "markdown",
      "metadata": {
        "id": "zXIIoA8i5HZe"
      },
      "source": [
        "---"
      ]
    }
  ],
  "metadata": {
    "colab": {
      "provenance": []
    },
    "kernelspec": {
      "display_name": "Python 3",
      "name": "python3"
    },
    "language_info": {
      "name": "python"
    }
  },
  "nbformat": 4,
  "nbformat_minor": 0
}