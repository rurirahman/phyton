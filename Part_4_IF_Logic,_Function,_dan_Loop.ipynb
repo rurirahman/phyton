{
  "nbformat": 4,
  "nbformat_minor": 0,
  "metadata": {
    "colab": {
      "provenance": []
    },
    "kernelspec": {
      "name": "python3",
      "display_name": "Python 3"
    },
    "language_info": {
      "name": "python"
    }
  },
  "cells": [
    {
      "cell_type": "markdown",
      "source": [
        "# CONTROL STRUCTURES: `Conditional Statements`, `Loops`, and `Function Calls`"
      ],
      "metadata": {
        "id": "Z5KM6th2lPKL"
      }
    },
    {
      "cell_type": "markdown",
      "source": [
        "## *Control Structures*\n",
        "> ***Control Structures*** adalah berbagai struktur yang disediakan dalam sebuah bahasa pemrograman yang dapat mempengaruhi **alur eksekusi perintah dalam sebuah program** (*Program's Control Flow*).\n",
        "\n",
        "Dari beberapa pertemuan pengenalan bahasa pemrograman Python sebelumnya, besar kemungkinan sebagian besar peserta sudah dapat meraba secara intuitif bahwa *Program's Control Flow* pada Python dilakukan secara *sequential*, dimana berbagai *`statements`* pada sebuah program akan dibaca oleh Python interpreter: secara per baris dari *statement* paling atas hingga ke paling bawah, dengan arah membaca setiap *statement* dari kiri ke kanan, dan hirarki evaluasi `expressions` yang akan dijalankan pada *statement* dari `expression` paling dalam ke luar.\n",
        "\n",
        "Dalam prakteknya, eksekusi `expressions` pada sebuah program tidak selalu berjalan sesederhana itu. Tidak jarang ditemui adanya keperluan untuk memberikan opsi agar:\n",
        "  1. beberapa baris *statements* tertentu dilalui tanpa dieksekusi;\n",
        "  2. melakukan pengulangan terhadap sebuah *block statement*; atau\n",
        "  3. memilih antara beberapa alternatif *block statements* yang harus dieksekusi.\n",
        "\n",
        "*Control structures* berguna untuk membantu dalam mengarahkan alur eksekusi *statements* sesuai dengan keperluan. Beberapa *control structures* yang umumnya dimanfaatkan dalam Python adalah:\n",
        "1. *`Conditional Statements`*;\n",
        "2. *`Loops`*;\n",
        "3. *`Function Calls`*; dan\n",
        "4. *`Exceptions Handling`*.\n",
        "\n",
        "Pertemuan ke-4 ini bertujuan untuk memberikan pemahaman dan penguasaan terhadap tiga *Control Structures* pertama yang disebutkan di atas. Adapun `Exceptions` akan disinggung secara sekilas saja pada bagian `Functions`, dengan pertimbangan terbatasnya waktu sehingga pembahasan dapat lebih difokuskan terhadap bagian yang lebih penting."
      ],
      "metadata": {
        "id": "PB8O2ndLzn03"
      }
    },
    {
      "cell_type": "markdown",
      "source": [
        "### *Indentation* Matters\n",
        "\n",
        "Serangkaian *statements* yang harus dieksekusi di bawah sebuah `conditional`, `loop`, atau `function` tertentu, dikatakan berada dalam satu **`Block Statements`**. Dalam bahasa pemrograman Python, **`Block Statements`** ini dapat dikenali secara visual oleh *interpreter* berdasarkan indentasi pada penulisan *statements*. Penulisan indentasi tersebut disebut sebagai aturan `off-side` yang mensyaratkan bahwa:\n",
        ">`berbagai statements yang berada pada sebuah Block yang sama, harus dituliskan menggunakan indentasi (menjorok ke kanan) dengan jarak yang seragam`.\n",
        "\n",
        "Berdasarkan konvensi, jarak indentasi bagi sebuah `block` adalah sejauh dua, atau empat spasi dari *`Block Header`*, yang ditandai dengan adanya symbol colon (\":\"). Di bawah berikut dapat dilihat format dari sebuah `Block Statements` pada bahasa pemrograman python.\n",
        "```python\n",
        "<Block Statements Header>:\n",
        "    <statement(s)>\n",
        "    ...\n",
        "    <end of block statement>\n",
        "```"
      ],
      "metadata": {
        "id": "L6OkweHSt7pV"
      }
    },
    {
      "cell_type": "markdown",
      "source": [
        "## `Conditionals`\n",
        "Penggunaan `conditionals` memungkinkan sebuah program melakukan semacam *decision-making* untuk menentukan **`Block Statements`** mana yang harus dieksekusi berdasarkan kondisi yang berlaku. Dalam bahasa pemrograman Python, eksekusi *statement* bersyarat dapat dilakukan dengan menggunakan `if statements`."
      ],
      "metadata": {
        "id": "Wol7kLjIc1Lu"
      }
    },
    {
      "cell_type": "markdown",
      "source": [
        "### `if` conditional\n",
        "`if` conditional adalah bentuk paling sederhana dari conditionals, dimana hanya diperlukan sebuah `block statements`, yang hanya akan dieksekusi ketika `conditional expression` yang diberikan terpenuhi (bernilai `True`), sebelum proses dilanjutkan ke `statements` di bawah `block statements` tersebut.\n",
        "\n",
        "Sedangkan jika `conditional expression` tidak terpenuhi (bernilai `False`), maka `block statements` akan dilangkahi, dan proses langsung dilakukan terhadap `statements` yang berada di bawah `block statements`.\n",
        "\n",
        "Berikut ini adalah format penulisan dari sebuah `if` conditional beserta *`block statements`*nya:\n",
        "```python\n",
        "if <conditional_expression>:\n",
        "    <statement(s)>\n",
        "    ...\n",
        "    <end of block statements>\n",
        "<statement(s)>\n",
        "```"
      ],
      "metadata": {
        "id": "k5YkvWiMBWPl"
      }
    },
    {
      "cell_type": "markdown",
      "source": [
        "#### **Ilustrasi 1**: *Use-case* `if` conditional\n",
        "Dalam sebuah program, tidak jarang diperlukan `users' input` untuk dipergunakan oleh program dalam pemrosesan lebih lanjut. Biasanya kebutuhan input bagi program tersebut memiliki format tertentu yang akan mengakibatkan error jika format tersebut tidak dipenuhi. Oleh karena itu, terhadap setiap `users' input` perlu dilakukan validasi untuk memastikan bahwa format inputan memiliki kesesuaian dengan kebutuhan. Sebuah `if` conditional dapat dipergunakan untuk memberikan notifikasi jika `users' input` tidak sesuai dengan format yang diperlukan, seperti diilustrasikan pada `code cell` di bawah ini."
      ],
      "metadata": {
        "id": "0CVFosXJwbm0"
      }
    },
    {
      "cell_type": "code",
      "source": [
        "# Meminta input berupa nama file beserta ekstensinya\n",
        "nama_file = input(\"Tuliskan nama file lengkap dengan ekstensinya (contoh: 'nama_file.csv'): \")\n",
        "\n",
        "# Validasi sederhana nama_file\n",
        "if nama_file.count('.')!=1:                           # Awal If Block Statement: Cek penulisan nama file, apakah tidak valid\n",
        "    print(\"Penulisan Nama file tidak sesuai format!\") # Akhir If Block Statement: Tampilkan pesan tidak valid\n",
        "print(\"Proses selesai!\")"
      ],
      "metadata": {
        "id": "aGSV0avZJdpN",
        "colab": {
          "base_uri": "https://localhost:8080/"
        },
        "outputId": "fedaeacc-921d-4904-d227-b4b1a4f55565"
      },
      "execution_count": null,
      "outputs": [
        {
          "output_type": "stream",
          "name": "stdout",
          "text": [
            "Tuliskan nama file lengkap dengan ekstensinya (contoh: 'nama_file.csv'): file_latihanxlsx\n",
            "Penulisan Nama file tidak sesuai format!\n",
            "Proses selesai!\n"
          ]
        }
      ]
    },
    {
      "cell_type": "markdown",
      "source": [
        "### `if ... else` conditional\n",
        "`if ... else` conditional dipergunakan jika terdapat alternatif pemrosesan yang harus dilakukan ketika `conditional expression` yang ditetapkan tidak terpenuhi. Dengan menggunakan conditional ini, maka pada program akan dituliskan dua `block statements`, yaitu:\n",
        "1. `if block statements`; dan\n",
        "2. `else block statements`.\n",
        "\n",
        "Dalam pemrosesan program, hanya salah satu dari kedua `block statements` tersebut yang akan dieksekusi, sebelum proses dilanjutkan dengan eksekusi `statements` di bawah keduanya. Adapun `block statements` mana yang akan dieksekusi tergantung dari terpenuhi (`True`) atau tidaknya (`False`) `conditional expression` yang ditetapkan.\n",
        "\n",
        "Berikut ini adalah format penulisan `if ... else` conditional dan *block statements* masing-masingnya:\n",
        "```python\n",
        "if <expr_1>:\n",
        "    <statement(s)>\n",
        "    ...\n",
        "    <end of if block statements>\n",
        "else:\n",
        "    <statement(s)>\n",
        "    ...\n",
        "    <end of else block statements>\n",
        "<statement(s)>\n",
        "```"
      ],
      "metadata": {
        "id": "N1IXlZkcis6r"
      }
    },
    {
      "cell_type": "markdown",
      "source": [
        "#### **Ilustrasi 2**: *Use-case* `if ... else` conditional\n",
        "Pada `code cell` di bawah ini dicontohkan penggunaan `if ... else` untuk memberikan notifikasi apakah `users' input` memiliki format yang sesuai atau tidak."
      ],
      "metadata": {
        "id": "ryJZwSAy0aQU"
      }
    },
    {
      "cell_type": "code",
      "source": [
        "# Mintakan input berupa nama file beserta ekstensinya\n",
        "nama_file = input(\"Tuliskan nama file, lengkap dengan ekstensinya (contoh: 'nama_file.csv'): \")\n",
        "\n",
        "# Validasi format nama_file\n",
        "if nama_file.count('.')!=1:                            # if Block Header: Cek penulisan nama file, apakah tidak valid\n",
        "    pesan = \"Penulisan nama file tidak sesuai format!\" # End of if Block: assign 'tidak sesuai format` ke pesan\n",
        "else:                                                  # Else block Header: Jika penulisan nama file valid\n",
        "    pesan = \"Penulisan nama file sesuai format!\"       # End of else block: assign 'separasi berhasil` ke pesan\n",
        "\n",
        "print(\"NAMA FILE = '%s'\" % nama_file)\n",
        "print(\"HASIL VALIDASI = %s\" % pesan)"
      ],
      "metadata": {
        "id": "LGE4ynYWM6Jg",
        "colab": {
          "base_uri": "https://localhost:8080/"
        },
        "outputId": "f72bf963-273d-4de8-f6bd-e0e831443acb"
      },
      "execution_count": null,
      "outputs": [
        {
          "output_type": "stream",
          "name": "stdout",
          "text": [
            "Tuliskan nama file, lengkap dengan ekstensinya (contoh: 'nama_file.csv'): contoh_file.xlsx\n",
            "NAMA FILE = 'contoh_file.xlsx'\n",
            "HASIL VALIDASI = Penulisan nama file sesuai format!\n"
          ]
        }
      ]
    },
    {
      "cell_type": "markdown",
      "source": [
        "### `if ... elif ... else` conditionals\n",
        "`elif` merupakan kependekan dari `else if`. Conditional ini akan diterapkan jika terdapat lebih dari dua alternatif pemrosesan yang harus dilakukan, sehingga jumlah `block statements` yang harus dituliskan akan sama dengan jumlah alternatif yang tersedia.\n",
        "\n",
        "Berikut ini adalah format penulisan `if ... elif ... else` conditional dan masing-masing *block statements*nya:\n",
        "```python\n",
        "if <expr_1>:\n",
        "    <statement(s)>\n",
        "elif <expr_2>:\n",
        "    <statement(s)>\n",
        "elif <expr_3>:\n",
        "    <statement(s)>\n",
        "...\n",
        "...\n",
        "else:\n",
        "    <statement(s)>\n",
        "```"
      ],
      "metadata": {
        "id": "AWpWHOVHix3m"
      }
    },
    {
      "cell_type": "markdown",
      "source": [
        "#### **Ilustrasi 3**: `if ... elif ... else` conditional\n",
        "Di bawah berikut dapat dilihat sebuah *use-case* bagi `if ... elif ... else` conditional, yang dipergunakan untuk memberikan notifikasi apakah nama file yang menjadi `users-input` adalah file berisi data atau bukan, berdasarkan variabel `ekstensi_file` yang dihasilkan dari proses sebelumnya."
      ],
      "metadata": {
        "id": "mmlT3orb4hZx"
      }
    },
    {
      "cell_type": "code",
      "source": [
        "pd.DataFrame()"
      ],
      "metadata": {
        "id": "s55HbW4MnMDT"
      },
      "execution_count": null,
      "outputs": []
    },
    {
      "cell_type": "code",
      "source": [
        "# Mintakan input berupa nama file beserta ekstensinya\n",
        "nama_file = input(\"Tuliskan nama file, lengkap dengan ekstensinya (contoh: 'nama_file.csv'): \")\n",
        "\n",
        "# Pisahkan ekstensi_file dari nama_file\n",
        "if nama_file.count('.')!=1:                    # Awal If Block: Cek penulisan nama file, apakah tidak valid\n",
        "    ekstensi_file  = None                      # If Block statement: Assign nama_diinput ke nama_file\n",
        "else:                                          # Awal Else Block: Jika penulisan nama file valid\n",
        "    ekstensi_file = nama_file.split(\".\")[-1]   # Else Block statement: Proses Separasi nama dan ekstensi_file\n",
        "\n",
        "# Pengecekan apakah file adalah file data atau bukan\n",
        "if ekstensi_file in ['csv', 'xls', 'xlsx', 'txt', 'json']:\n",
        "  pesan = f\"File '{nama_file}' adalah file data berformat '%s'!\" % ekstensi_file\n",
        "elif ekstensi_file is None:\n",
        "  pesan = f\"Penulisan nama file '{nama_file}' tidak valid.\"\n",
        "else:\n",
        "  pesan = f\"File '{nama_file}' tidak dikenali sebagai file data!\"\n",
        "\n",
        "print(pesan)"
      ],
      "metadata": {
        "id": "MyN3MIpegFZ-",
        "colab": {
          "base_uri": "https://localhost:8080/"
        },
        "outputId": "17867a42-c4a3-4b74-b5ef-e6f9a82a0cd7"
      },
      "execution_count": null,
      "outputs": [
        {
          "output_type": "stream",
          "name": "stdout",
          "text": [
            "Tuliskan nama file, lengkap dengan ekstensinya (contoh: 'nama_file.csv'): presentasi.pptx\n",
            "File 'presentasi.pptx' tidak dikenali sebagai file data!\n"
          ]
        }
      ]
    },
    {
      "cell_type": "markdown",
      "source": [
        "Statement `if ... elif ... else` seperti diilustrasikan di atas memberikan keleluasan kepada programmer untuk mengekspresikan percabangan pemrosesan dengan alternatif conditional yang tidak terbatas. Meskipun demikian, penggunaan yang berlebihan biasanya akan meningkatkan kerumitan serta berpengaruh terhadap menurunnya *readability* script dari program. Oleh karena itu, penggunaan `if ... elif ... else` yang terlalu eksesif, jika memungkinkan, harus dihindari."
      ],
      "metadata": {
        "id": "Q-tc6_UXErxp"
      }
    },
    {
      "cell_type": "markdown",
      "source": [
        "### Conditional Operator (Python Ternary Operators)\n",
        "> Berbeda dengan ketiga *conditionals* yang telah dibahas sebelumnya, `Conditional Operator` bukanlah sebuah `control structure`, namun bertindak sebagai sebuah operator yang mendefinisikan `expression` mana yang harus digunakan oleh sebuah `statement`.\n",
        "\n",
        "`Conditional Operator` tergolong sebagai `one-liner` operator, dengan format penulisan paling sederhana seperti di bawah ini:\n",
        "```python\n",
        "<expr_1> if <conditional_expr> else <expr_2>\n",
        "```\n",
        "Urutan eksekusi operator di atas adalah seperti demikian: *interpreter* akan mengevaluasi `conditional_expr`, yang berada di tengah, terlebih dahulu, lalu mengeksekusi `expression` yang terkait dengan hasil evaluasi, dimana:\n",
        "  - Jika bernilai `True`, maka operator akan memberikan hasil `expr_1` untuk digunakan dalam `statement`;\n",
        "  - Jika bernilai `False`, maka operator akan memberikan hasil `expr_2` untuk digunakan dalam `statement`."
      ],
      "metadata": {
        "id": "AihsJ3u9c-Cx"
      }
    },
    {
      "cell_type": "markdown",
      "source": [
        "#### **Ilustrasi 4**: Ternary Operator\n",
        "Di bawah berikut, dapat diamati bagaimana sebuah `ternary operator` diterapkan untuk menjalankan proses yang sama dengan yang dilakukan pada **Ilustrasi 3** sebelumnya."
      ],
      "metadata": {
        "id": "fo5qVUcQ7jo0"
      }
    },
    {
      "cell_type": "code",
      "source": [
        "# Mintakan input berupa nama file beserta ekstensinya\n",
        "nama_file = input(\"Tuliskan nama file, lengkap dengan ekstensinya (contoh: 'nama_file.csv'): \")\n",
        "\n",
        "# Percabangan `if ... else` untuk memisahkan ekstensi dari nama_file\n",
        "if nama_file.count('.')!=1:                  # Awal Conditional Block: Cek penulisan nama file, apakah tidak valid\n",
        "    ekstensi_file  = None                    # Block statement: Assign nama_diinput ke nama_file\n",
        "else:                                        # Awal Else Block: Jika penulisan nama file valid\n",
        "    ekstensi_file = nama_file.split(\".\")[-1] # Block statement: Proses Separasi\n",
        "\n",
        "# Menggunakan Ternary Operator untuk melakukan pengecekan file data\n",
        "pengecekan = f\"adalah file data berformat '{ekstensi_file}'\" if (\n",
        "    ekstensi_file in ['txt', 'xls', 'xlsx', 'json', 'csv']) else 'tidak dikenali sebagai file data' if (\n",
        "        ekstensi_file is not None) else \"penulisan namanya tidak valid.\"\n",
        "# Tampilkan pesan ke layar\n",
        "print(f\"File '{nama_file}' {pengecekan}!\")"
      ],
      "metadata": {
        "id": "Uuqoc8EDeGXd",
        "colab": {
          "base_uri": "https://localhost:8080/"
        },
        "outputId": "5657b5b3-a5c9-4077-b2a9-4c3b6a4cc301"
      },
      "execution_count": null,
      "outputs": [
        {
          "output_type": "stream",
          "name": "stdout",
          "text": [
            "Tuliskan nama file, lengkap dengan ekstensinya (contoh: 'nama_file.csv'): presentasi.kemarin.pptx\n",
            "File 'presentasi.kemarin.pptx' penulisan namanya tidak valid.!\n"
          ]
        }
      ]
    },
    {
      "cell_type": "markdown",
      "source": [
        "## `Loops`\n",
        "Pada sebuah program, `Loop` dipergunakan untuk melakukan pengulangan proses terhadap sebuah `block statements` tertentu yang menjadi bagian dari program tersebut, sebelum proses dilanjutkan ke `statements` berikutnya. Pengulangan proses seperti yang dideskripsikan di atas, dalam bahasa pemrograman biasanya disebut dengan istilah `Iteration`.\n",
        "\n",
        "Pada bahasa pemrograman Python, terdapat dua macam `iterations` yang biasanya dilakukan, yaitu:\n",
        "1. `Definite Iteration`: pada iterasi jenis ini, jumlah iterasi yang akan dilakukan sudah ditentukan dari awal, sehingga secara otomatis proses iterasi akan berhenti ketika jumlah yang dilakukan sudah mencapai jumlah yang ditentukan tersebut; dan\n",
        "2. `Indefinite Iteration`: pada iterasi jenis ini, jumlah iterasi yang harus dilakukan tidak ditentukan, namun proses akan berhenti jika kondisi tertentu telah tercapai."
      ],
      "metadata": {
        "id": "nyOVq2eByGB8"
      }
    },
    {
      "cell_type": "markdown",
      "source": [
        "### `Definite Iteration`\n",
        "Pada bahasa pemrograman Python, `Definite Iteration` dapat dilakukan dengan menggunakan `statement` `for` loop. Di bawah berikut dapat diamati format standar penulisan dari `statement` `for` loop:\n",
        "```python\n",
        "for <var> in <iterable>:\n",
        "    <statement(s)>\n",
        "    ...\n",
        "    <end of block statements>\n",
        "```\n",
        "> `iterable` adalah sebuah `collection`/`container` berisi objek, seperti `list`, `tuple`, `set`, `dictionary`, fungsi `range`, atau `iterator` objek.\n",
        "\n",
        "Perhatikan penulisan `<statement(s)>` berindentasi di bawah `statement` `for`, yang menunjukkan bahwa berbagai `statements` tersebut merupakan sebuah `block statements` yang akan diiterasi untuk setiap `<var>` yang dimuat di dalam `<iterable>`."
      ],
      "metadata": {
        "id": "edsY4jlpyIm8"
      }
    },
    {
      "cell_type": "markdown",
      "source": [
        "#### **Ilustrasi 5**: Basic *use-case* of `for` loop"
      ],
      "metadata": {
        "id": "Tsk36Whi9Skr"
      }
    },
    {
      "cell_type": "code",
      "source": [
        "import time\n",
        "\n",
        "# Melakukan iterasi terhadap setiap elemen dari sebuah list\n",
        "for bunga in ['Mawar', 'Melati', 'Anggrek', 'Bank', 'Sakura']:\n",
        "    # Menampilkan setiap elemen ke layar menggunakan fungsi `print()`\n",
        "    print(bunga if bunga!='Bank' else f\"-->> {bunga} <<--\")\n",
        "    time.sleep(0.5)"
      ],
      "metadata": {
        "id": "-yWcWZt-bppY",
        "colab": {
          "base_uri": "https://localhost:8080/"
        },
        "outputId": "e49cdf8b-0713-451a-c160-cf28de3e7508"
      },
      "execution_count": null,
      "outputs": [
        {
          "output_type": "stream",
          "name": "stdout",
          "text": [
            "Mawar\n",
            "Melati\n",
            "Anggrek\n",
            "-->> Bank <<--\n",
            "Sakura\n"
          ]
        }
      ]
    },
    {
      "cell_type": "markdown",
      "source": [
        "#### **Ilustrasi 6**: `List` construction\n",
        "Pada ilustrasi ini, dicontohkan pemanfaatan `for loop block statements` untuk menghasilkan tiga `list` yang berbeda terhadap setiap elemen pada fungsi `range()`."
      ],
      "metadata": {
        "id": "URXshs2V9f7S"
      }
    },
    {
      "cell_type": "code",
      "source": [
        "# Memisahkan angka 0-9 menjadi genap dan ganjil menggunakan for loop\n",
        "# Membuat tiga list kosong\n",
        "semua_angka, angka_genap, angka_ganjil = [], [], []\n",
        "# Melakukan iterasi bagi elemen pada sebuah fungsi range()\n",
        "for number in range(0, 10, 1):\n",
        "    # tambahkan number ke list semua_angka\n",
        "    semua_angka.append(number)\n",
        "    # Cek apakah elemen genap\n",
        "    if (number % 2 == 0):\n",
        "        # tambahkan ke list angka_genap\n",
        "        angka_genap.append(number)\n",
        "    # Jika tidak genap\n",
        "    else:\n",
        "        # tambahkan ke list angka_ganjil\n",
        "        angka_ganjil.append(number)\n",
        "\n",
        "print(semua_angka)\n",
        "print(angka_ganjil)\n",
        "print(angka_genap)"
      ],
      "metadata": {
        "id": "RFliMs5fwf90",
        "colab": {
          "base_uri": "https://localhost:8080/"
        },
        "outputId": "d228403e-4a7a-4775-b175-ee35b4938f3e"
      },
      "execution_count": null,
      "outputs": [
        {
          "output_type": "stream",
          "name": "stdout",
          "text": [
            "[0, 1, 2, 3, 4, 5, 6, 7, 8, 9]\n",
            "[1, 3, 5, 7, 9]\n",
            "[0, 2, 4, 6, 8]\n"
          ]
        }
      ]
    },
    {
      "cell_type": "markdown",
      "source": [
        "#### List Comprehension\n",
        "> `List Comprehension` adalah salah satu metode yang dipergunakan untuk membuat atau mentransformasikan sebuah `list` dengan memanfaatkan `for` loop.\n",
        "\n",
        "Dengan memanfaatkan `list comprehension`, pembuatan `list` seperti pada ilustrasi sebelumnya di atas dapat dilakukan dengan cara yang jauh lebih *elegan* dan ringkas. Berikut ini adalah format dari penulisan sebuah perintah `one-liner`, `list comprehension` standar:\n",
        "```python\n",
        "nama_list = [<expression> for <var> in <iterable> if <conditional_expr>]\n",
        "```"
      ],
      "metadata": {
        "id": "wsdm0KxIxvpu"
      }
    },
    {
      "cell_type": "markdown",
      "source": [
        "#### **Ilustrasi 7**: *Use-case* `list comprehension`\n",
        "Di bawah ini dapat diamati penggunaan `list comprehension` untuk melakukan `list` construction yang serupa dengan yang dilakukan pada **Ilustrasi 6** sebelumnya."
      ],
      "metadata": {
        "id": "W9eRfSO5-JYF"
      }
    },
    {
      "cell_type": "code",
      "source": [
        "# Membuat list dari range(0, 10, 1)\n",
        "semua_angka_comp = [num for num in range(0, 10, 1)]\n",
        "# Pisahkan angka genap dari range(0, 10, 1)\n",
        "angka_genap_comp = [nomor for nomor in range(0, 10, 1) if (nomor % 2 == 0)]\n",
        "# Pisahkan angka ganjil dari range(0, 10, 1)\n",
        "angka_ganjil_comp = [angka for angka in range(0, 10, 1) if (angka % 2 != 0)]\n",
        "\n",
        "print(semua_angka_comp)\n",
        "print(angka_ganjil_comp)\n",
        "print(angka_genap_comp)"
      ],
      "metadata": {
        "id": "VnC_4X1Cx_Pj",
        "colab": {
          "base_uri": "https://localhost:8080/"
        },
        "outputId": "e2b6a879-071c-4e54-da1b-ab3271cb15ef"
      },
      "execution_count": null,
      "outputs": [
        {
          "output_type": "stream",
          "name": "stdout",
          "text": [
            "[0, 1, 2, 3, 4, 5, 6, 7, 8, 9]\n",
            "[1, 3, 5, 7, 9]\n",
            "[0, 2, 4, 6, 8]\n"
          ]
        }
      ]
    },
    {
      "cell_type": "markdown",
      "source": [
        "**CHALLENGE** -- Lakukan pembuatan list untuk angka genap dan ganjil, dengan `list comprehension` cukup menggunakan fungsi `range` saja tanpa menggunakan conditional."
      ],
      "metadata": {
        "id": "iScx_wd4HD9M"
      }
    },
    {
      "cell_type": "code",
      "source": [
        "angka_ganjil_noif = list(angka for angka in range(1, 10, 2))\n",
        "angka_genap_noif = [angka for angka in range(0, 10, 2)]\n",
        "\n",
        "print(angka_ganjil_noif)\n",
        "print(angka_genap_noif)"
      ],
      "metadata": {
        "id": "H_MSamkSHbXw",
        "colab": {
          "base_uri": "https://localhost:8080/"
        },
        "outputId": "6d3a0c64-9ba0-4b89-ed53-dadec99dbaa1"
      },
      "execution_count": null,
      "outputs": [
        {
          "output_type": "stream",
          "name": "stdout",
          "text": [
            "[1, 3, 5, 7, 9]\n",
            "[0, 2, 4, 6, 8]\n"
          ]
        }
      ]
    },
    {
      "cell_type": "markdown",
      "source": [
        "### `Indefinite Iteration`\n",
        "Untuk melakukan `indefinite iteration`, Python menyediakan `statement` `while` loop. Di bawah berikut dapat dicermati format standar penulisan `while` loop.\n",
        "```python\n",
        "while <conditional_expr>:\n",
        "    <statement(s)>\n",
        "```\n",
        "Berbagai `statements` pada `while block` seperti di atas, akan terus diiterasi selama `conditional_expr` yang dinyatakan pada awal `while block` terpenuhi."
      ],
      "metadata": {
        "id": "1fE8u0DxyYyF"
      }
    },
    {
      "cell_type": "markdown",
      "source": [
        "#### **Ilustrasi 8**: Basic *use-case* `while` loop\n",
        "Pada ilustrasi ini, `while` loop dipergunakan untuk membuat sebuah program yang melakukan *countdown* mulai dari nilai angka tertentu yang di set berdasarkan `users' input`."
      ],
      "metadata": {
        "id": "pqZ5VRUf-t5K"
      }
    },
    {
      "cell_type": "code",
      "source": [
        "# Minta user menginput nilai untuk angka_awal\n",
        "angka_awal = int(input(\"Hitung mundur dari angka berapa? \"))\n",
        "\n",
        "while angka_awal >= 0:\n",
        "  print(angka_awal)\n",
        "  angka_awal -= 1 # angka_awal dikurangi 1\n",
        "  time.sleep(0.5)"
      ],
      "metadata": {
        "id": "nYpg_jeGySF_",
        "colab": {
          "base_uri": "https://localhost:8080/"
        },
        "outputId": "b714b76b-3924-455f-9fa6-a35b80736d78"
      },
      "execution_count": null,
      "outputs": [
        {
          "output_type": "stream",
          "name": "stdout",
          "text": [
            "Hitung mundur dari angka berapa? 10\n",
            "10\n",
            "9\n",
            "8\n",
            "7\n",
            "6\n",
            "5\n",
            "4\n",
            "3\n",
            "2\n",
            "1\n",
            "0\n"
          ]
        }
      ]
    },
    {
      "cell_type": "markdown",
      "source": [
        "### Altering `loop` behaviour\n",
        "Proses iterasi pada berbagai loop seperti dijelaskan sebelumnya, dapat diinterupsi dengan memanfaatkan beberapa `statements` berikut:\n",
        "1. `break`, dipergunakan untuk menghentikan proses iterasi dan keluar dari `block statements`;\n",
        "2. `continue`, dipergunakan untuk melangkahi iterasi yang sedang berlangsung, dan lanjut ke iterasi berikutnya;\n",
        "3. `pass`, dipergunakan untuk menandai bahwa `block statements` bagi loop belum selesai dibuat, `statement` ini memberikan isyarat agar loop tidak mengerjakan apapun."
      ],
      "metadata": {
        "id": "Py8DuCjkQ8qN"
      }
    },
    {
      "cell_type": "markdown",
      "source": [
        "#### **Ilustrasi 9**: *Use-case* `break`"
      ],
      "metadata": {
        "id": "6BNolIwzCIxx"
      }
    },
    {
      "cell_type": "code",
      "source": [
        "# Menghentikan iterasi pada loop ketika i bernilai 6\n",
        "for i in range(10):\n",
        "  print(i)\n",
        "  if i == 6:\n",
        "    break"
      ],
      "metadata": {
        "id": "F3o3RRAjQp7N",
        "colab": {
          "base_uri": "https://localhost:8080/"
        },
        "outputId": "40d57821-a47b-45e5-a99b-36f080052fa0"
      },
      "execution_count": null,
      "outputs": [
        {
          "output_type": "stream",
          "name": "stdout",
          "text": [
            "0\n",
            "1\n",
            "2\n",
            "3\n",
            "4\n",
            "5\n",
            "6\n"
          ]
        }
      ]
    },
    {
      "cell_type": "markdown",
      "source": [
        "#### **Ilustrasi 10**: *Use-case* `continue`"
      ],
      "metadata": {
        "id": "Ki5glzgmCRER"
      }
    },
    {
      "cell_type": "code",
      "source": [
        "# Ketika i bernilai ganjil, iterasi dilangkahi lalu lanjut ke iterasi selanjutnya\n",
        "for i in range(10):\n",
        "  if (i % 2 != 0):\n",
        "    continue\n",
        "  print(i)"
      ],
      "metadata": {
        "id": "TjBCcQS6RUZe",
        "colab": {
          "base_uri": "https://localhost:8080/"
        },
        "outputId": "64df76ce-5a81-4f68-9b04-d5d28431aa19"
      },
      "execution_count": null,
      "outputs": [
        {
          "output_type": "stream",
          "name": "stdout",
          "text": [
            "0\n",
            "2\n",
            "4\n",
            "6\n",
            "8\n"
          ]
        }
      ]
    },
    {
      "cell_type": "markdown",
      "source": [
        "#### **Ilustrasi 11**: *Use-case* `pass`"
      ],
      "metadata": {
        "id": "Sv0DgDXiCa9b"
      }
    },
    {
      "cell_type": "code",
      "source": [
        "# Menandai bahwa `block statements` belum ditentukan\n",
        "for i in range(10):\n",
        "  pass"
      ],
      "metadata": {
        "id": "2ebQ-_stRcMp"
      },
      "execution_count": null,
      "outputs": []
    },
    {
      "cell_type": "markdown",
      "source": [
        "### EXERCISE 1\n",
        "Lakukan inventarisir **file-file berisi data** yang ada di folder 'sample_data'. Untuk itu tuliskan code bagi beberapa *statements* di bawah berikut:\n",
        "1. import method `glob` dari modul `glob`;\n",
        "2. import modul os\n",
        "3. minta user input untuk nama folder yang akan diinventarisir, lalu assign inputannya ke variabel `folder`;\n",
        "4. assign text `\"*\"` ke variabel `file_name_pattern`;\n",
        "5. gabungkan `folder` dan `file_name_pattern` menjadi sebuah variabel `file_path` menggunakan method `os.path.join`;\n",
        "6. gunakan method `glob`, masukkan `file_path` sebagai argument, assign hasilnya ke variabel `list_file`;\n",
        "7. buat sebuah list kosong, assign ke variabel bernama `daftar_file_data`;\n",
        "8. lakukan iterasi berikut terhadap setiap `file` yang ada pada `list_file`:\n",
        "    - gunakan method `split()` terhadap `file` dengan `\".\"` sebagai separator, ambil item paling akhir, lalu assign ke variabel `ekstensi_file`;\n",
        "    - Gunakan operator `in` untuk melakukan pengecekan apakah `ekstensi_file` ada di list `['xls', 'xlsx', 'txt', 'csv', 'json']`;\n",
        "    - Jika hasil pengecekan adalah `True`, maka:\n",
        "        - gunakan method `split()` terhadap file dengan `\"/\"` sebagai separator, ambil hanya elemen terakhir, lalu `append` hasilnya ke `daftar_file_data`;\n",
        "9. Buat sebuah dictionary dengan key = `folder` dan value = `daftar_file_data`, assign ke variabel `dict_file_data`."
      ],
      "metadata": {
        "id": "dM60kCPrbYNr"
      }
    },
    {
      "cell_type": "code",
      "source": [
        "# GANTILAH SETIAP KARAKTER '_____' PADA STATEMENTS DI BAWAH BERIKUT\n",
        "# DENGAN EKSPRESI YANG SEHARUSNYA, LALU RUN CELL INI.\n",
        "# Import method glob dari modul glob\n",
        "from glob import glob\n",
        "# Import modul os\n",
        "import os\n",
        "\n",
        "# Minta input berupa nama folder\n",
        "folder = input(\"Tuliskan folder tempat file: \")\n",
        "\n",
        "# Buat text pattern file\n",
        "file_name_pattern = \"*\"\n",
        "\n",
        "# Gabungkan nama folder dan pattern file, assign sebagai file_path\n",
        "file_path = os.path.join(folder, file_name_pattern)\n",
        "\n",
        "# masukkan file_path ke fungsi glob, lalu assign hasilnya ke 'list_file'\n",
        "list_file = glob(file_path)\n",
        "\n",
        "# Buat list kosong\n",
        "daftar_file_data = list()\n",
        "\n",
        "# iterasi file yang tercatat pada 'list_file'\n",
        "for nama_file in list_file:\n",
        "    # Pisahkan ekstensi_file dari nama_file\n",
        "    ekstensi_file = nama_file.split(\".\")[-1]\n",
        "    # Cek ekstensi_file apakah merupakan ekstensi untuk file data\n",
        "    if ekstensi_file in ['xls', 'xlsx', 'txt', 'csv', 'json']:\n",
        "        # Jike hasil pengecekan adalah True\n",
        "        daftar_file_data.append(nama_file.split(\"/\")[-1])\n",
        "\n",
        "# Buat dictionary dengan key = folder dan value = daftar_file_data\n",
        "folder_data = {\n",
        "    folder: daftar_file_data\n",
        "}\n",
        "\n",
        "folder_data"
      ],
      "metadata": {
        "id": "GcuQOz_MrCRd",
        "colab": {
          "base_uri": "https://localhost:8080/"
        },
        "outputId": "03deb5eb-f9bb-48d1-c5e5-bad60adec203"
      },
      "execution_count": null,
      "outputs": [
        {
          "name": "stdout",
          "output_type": "stream",
          "text": [
            "Tuliskan folder tempat file: sample_data\n"
          ]
        },
        {
          "output_type": "execute_result",
          "data": {
            "text/plain": [
              "{'sample_data': ['anscombe.json',\n",
              "  'california_housing_test.csv',\n",
              "  'mnist_train_small.csv',\n",
              "  'california_housing_train.csv',\n",
              "  'mnist_test.csv']}"
            ]
          },
          "metadata": {},
          "execution_count": 40
        }
      ]
    },
    {
      "cell_type": "markdown",
      "source": [
        "## `Functions`\n",
        "> Dalam bahasa pemrograman, sebuah fungsi adalah sebuah `block statements` yang terpisah dan dikembangkan, idealnya, untuk mengerjakan sebuah tugas spesifik tertentu.\n",
        "\n",
        "Dalam bahasa pemrograman Python, terdapat dua macam fungsi, yaitu fungsi-fungsi `built-in` dan `user-defined`. Sebagai ilustrasi, berbagai fungsi pada `common sequence operators`--seperti `len()`, `max()`, `min()` yang diperkenalkan pada sesi ke-8 sebelumnya--adalah beberapa contoh dari fungsi `built-in` yang disediakan oleh python.\n",
        "\n",
        "Umumnya, setiap bahasa pemrograman yang berkembang memberikan kebebasan kepada penggunanya untuk mengembangkan fungsi yang memenuhi kebutuhan pemrosesan bagi program yang dikembangkannya. Fungsi `user-defined` memberikan keuntungan bagi proses pengembangan program, utamanya dari segi *reusability* dan *modularity* fungsi yang dikembangkan.\n",
        "\n",
        "Pada sesi ke-9 ini, kita akan mempelajari tata cara pembuatan, dan penggunaan fungsi `user-defined`. Di bawah berikut adalah format dasar bagi pendefinisian sebuah fungsi pada Python.\n",
        "```python\n",
        "def <function_name>([<parameters>]):\n",
        "    <statement(s)>\n",
        "```\n",
        "Dari format di atas, terdapat beberapa komponen penting sebagai berikut:\n",
        "1. `def` : sebuah *keyword* penting yang memberitahukan kepada Python bahwa sebuah fungsi sedang didefinisikan;\n",
        "2. `<function_name>` : Sebuah *identifier* unik yang memberi identitas nama bagi fungsi yang didefinisikan, sebagai nama panggil;\n",
        "3. `<parameters>` : Opsional, list parameter yang dipisahkan oleh koma, yang akan dipergunakan oleh fungsi sebagai input;\n",
        "4. `:` : Penanda awal dari sebuah `function block`;\n",
        "5. `<statements>` : `Block statements` dengan indentasi yang tepat, dalam bahasa pemrograman Python yang akan diproses ketika fungsi dipanggil.\n",
        "\n",
        "> ***`return` statement*** adalah sebuah `statement` yang dituliskan di akhir sebuah `block statements` pada sebuah fungsi. Selain sebagai penanda bagi Python bahwa `function block` sudah selesai diproses, `return statement` juga memberikan akses kepada fungsi untuk memodifikasi environment atau memberikan data ke program yang memanggilnya.\n",
        "\n",
        "Hal yang perlu diperhatikan dalam pembuatan `user-defined` function:\n",
        "1. Biasakan membuat fungsi yang hanya mengerjakan satu tugas tertentu saja;\n",
        "2. Berikan `<function_name>` yang secara ringkas mendeskripsikan tugas apa yang dilakukan oleh fungsi tersebut;\n",
        "3. Berikan nama `<parameters>` yang deskriptif, memudahkan untuk menebak argument macam apa yang harus disisipkan;\n",
        "4. Dokumentasikan fungsi:\n",
        "   - Tipe data untuk masing-masing `<parameter>`;\n",
        "   - Tipe data dari Output yang dihasilkan;\n",
        "   - Dokumentasikan tujuan dan informasi lainnya di bawah `block` header;\n",
        "   - Gunakan `comment` untuk menjelaskan berbagai `<statements>`.\n",
        "\n",
        "Adapun syntax yang dipergunakan untuk memanggil fungsi yang sudah dibuat, adalah sebagai berikut:\n",
        "```python\n",
        "<function_name>([<arguments>])\n",
        "```\n",
        "\n"
      ],
      "metadata": {
        "id": "9rzPbPwhqJjn"
      }
    },
    {
      "cell_type": "markdown",
      "source": [
        "#### **Ilustrasi 12**: `Function` Construction\n",
        "Amati beberapa fungsi di bawah berikut. Untuk setiap fungsi, jawablah beberapa pertanyaan ini:\n",
        "1. Apa tujuan dari fungsi tersebut?\n",
        "2. Tipe `parameters` apa saja yang bisa dipergunakan bagi masing-masing `Arguments`?\n",
        "3. Apa output dari fungsi tersebut?\n",
        "4. Menurut anda, apakah ada yang perlu ditambahkan ke dalam fungsi tersebut?"
      ],
      "metadata": {
        "id": "r8uL6oMBEsG1"
      }
    },
    {
      "cell_type": "code",
      "source": [
        "def validasi_file_data(nama_file):\n",
        "  return nama_file.count('.')==1 and nama_file.split('.')[-1] in ['txt', 'csv', 'xls', 'xlsx', 'json']"
      ],
      "metadata": {
        "id": "5BnkGrWm2NTG"
      },
      "execution_count": null,
      "outputs": []
    },
    {
      "cell_type": "code",
      "source": [
        "def validasi_file_ada(file_path: str) -> bool:\n",
        "  import os\n",
        "  return os.path.exists(file_path)"
      ],
      "metadata": {
        "id": "vF1yYMfn6MK5"
      },
      "execution_count": null,
      "outputs": []
    },
    {
      "cell_type": "code",
      "source": [
        "def parsing_file_data(nama_folder: str, nama_file: str) -> object | None:\n",
        "    \"\"\"\n",
        "    Fungsi untuk melakukan parsing data dari beberapa jenis file data\n",
        "\n",
        "    ARGUMENTS:\n",
        "    1. nama_folder: str, nama folder dimana file data disimpan;\n",
        "    2. nama_file  : str, nama file yang akan diparsing, nama file\n",
        "                 harus ditulis lengkap dengan ekstensinya.\n",
        "    OUTPUT:\n",
        "    Object berupa pandas.dataframe atau None\n",
        "    \"\"\"\n",
        "    # Mengimpor modul yang diperlukan\n",
        "    import os, pandas as pd\n",
        "\n",
        "    # Validasi filename : apakah penulisan file benar dan merupakan file data?\n",
        "    if validasi_file_data(nama_file) is False:\n",
        "      raise ValueError(f\"'{nama_file}' penulisannya tidak valid, atau bukan file Data.\")\n",
        "\n",
        "    # Membuat file_path, berdasarkan info dari argument pada fungsi\n",
        "    file_path = os.path.join(nama_folder, nama_file)\n",
        "\n",
        "    # Validasi file_path : apakah file dimaksud ada?\n",
        "    if validasi_file_ada(file_path) is False:\n",
        "      raise FileNotFoundError(f\"File '{file_path}' tidak ditemukan.\")\n",
        "\n",
        "    # Mengambil info ekstensi file\n",
        "    ekstensi = nama_file.split('.')[-1]\n",
        "\n",
        "    # Proses Parsing, menggunakan metode yang disesuaikan dengan ekstensi file\n",
        "    if ekstensi in ['csv', 'txt']:      # Jika ekstensi `csv` atau `txt`\n",
        "        df = pd.read_csv(file_path)\n",
        "    elif ekstensi == 'json':            # Jika ekstensi `json`\n",
        "        df = pd.read_json(file_path)\n",
        "    elif ekstensi in ['xls', 'xlsx']:   # Jika ekstensi `xls` atau `xlsx`\n",
        "        df = pd.read_excel(file_path)\n",
        "\n",
        "    return df"
      ],
      "metadata": {
        "id": "T0Hz5eG7jQrz"
      },
      "execution_count": null,
      "outputs": []
    },
    {
      "cell_type": "markdown",
      "source": [
        "**PERHATIKAN** -- Dari ketiga fungsi di atas, fungsi mana yang paling mudah anda mengerti? Mengapa demikian??\n",
        "\n",
        "**GOOD PRACTICE** -- Biasakan untuk melengkapi fungsi dengan dokumentasi yang baik. Dokumentasi yang memadai akan membantu baik dalam hal penggunaan maupun perbaikan dari sebuah fungsi yang telah dikembangkan, biasanya akan terdiri dari dokumentasi berupa *metadata* dan algoritma dari setiap baris statement pada blok fungsi.\n",
        "\n",
        "#### **Ilustrasi 13**: `Function` Documentation\n",
        "Untuk mempelajari dokumentasi yang disediakan dalam bentuk *metadata* dari sebuah fungsi, dapat dipergunakan fungsi `help` seperti di ilustrasikan di bawah berikut:\n",
        "```python\n",
        "help(<nama_fungsi>)\n",
        "```"
      ],
      "metadata": {
        "id": "wy5jFmx1FRf0"
      }
    },
    {
      "cell_type": "code",
      "source": [
        "help(validasi_file_data)"
      ],
      "metadata": {
        "id": "Ts5Suq2Xxksa",
        "colab": {
          "base_uri": "https://localhost:8080/"
        },
        "outputId": "9f71f426-0d36-44bb-d3bb-af25fb8c8609"
      },
      "execution_count": null,
      "outputs": [
        {
          "output_type": "stream",
          "name": "stdout",
          "text": [
            "Help on function validasi_file_data in module __main__:\n",
            "\n",
            "validasi_file_data(nama_file)\n",
            "\n"
          ]
        }
      ]
    },
    {
      "cell_type": "code",
      "source": [
        "help(validasi_file_ada)"
      ],
      "metadata": {
        "id": "I5yczhoI90jn",
        "colab": {
          "base_uri": "https://localhost:8080/"
        },
        "outputId": "cdd1ba18-be40-43ea-ac27-442d9a4b0c91"
      },
      "execution_count": null,
      "outputs": [
        {
          "output_type": "stream",
          "name": "stdout",
          "text": [
            "Help on function validasi_file_ada in module __main__:\n",
            "\n",
            "validasi_file_ada(file_path: str) -> bool\n",
            "\n"
          ]
        }
      ]
    },
    {
      "cell_type": "code",
      "source": [
        "help(parsing_file_data)"
      ],
      "metadata": {
        "id": "ZbNTZK9l922O",
        "colab": {
          "base_uri": "https://localhost:8080/"
        },
        "outputId": "400ecb6d-16c3-4859-8094-d0064ccc471c"
      },
      "execution_count": null,
      "outputs": [
        {
          "output_type": "stream",
          "name": "stdout",
          "text": [
            "Help on function parsing_file_data in module __main__:\n",
            "\n",
            "parsing_file_data(nama_folder: str, nama_file: str) -> object | None\n",
            "    Fungsi untuk melakukan parsing data dari beberapa jenis file data\n",
            "    \n",
            "    ARGUMENTS:\n",
            "    1. nama_folder: str, nama folder dimana file data disimpan;\n",
            "    2. nama_file  : str, nama file yang akan diparsing, nama file\n",
            "                 harus ditulis lengkap dengan ekstensinya.\n",
            "    OUTPUT:\n",
            "    Object berupa pandas.dataframe atau None\n",
            "\n"
          ]
        }
      ]
    },
    {
      "cell_type": "markdown",
      "source": [
        "#### **Ilustrasi 14**: `Function` Call"
      ],
      "metadata": {
        "id": "vciZpfdqFaBR"
      }
    },
    {
      "cell_type": "code",
      "source": [
        "parsing_file_data('sample_data', 'rikrik_rahadian.pptx')"
      ],
      "metadata": {
        "id": "IdXS7nrK5xnr",
        "colab": {
          "base_uri": "https://localhost:8080/",
          "height": 263
        },
        "outputId": "eda39474-1b53-4ca2-a568-c48cb871745f"
      },
      "execution_count": null,
      "outputs": [
        {
          "output_type": "error",
          "ename": "ValueError",
          "evalue": "'rikrik_rahadian.pptx' penulisannya tidak valid, atau bukan file Data.",
          "traceback": [
            "\u001b[0;31m---------------------------------------------------------------------------\u001b[0m",
            "\u001b[0;31mValueError\u001b[0m                                Traceback (most recent call last)",
            "\u001b[0;32m<ipython-input-48-56a23d3b744a>\u001b[0m in \u001b[0;36m<cell line: 1>\u001b[0;34m()\u001b[0m\n\u001b[0;32m----> 1\u001b[0;31m \u001b[0mparsing_file_data\u001b[0m\u001b[0;34m(\u001b[0m\u001b[0;34m'sample_data'\u001b[0m\u001b[0;34m,\u001b[0m \u001b[0;34m'rikrik_rahadian.pptx'\u001b[0m\u001b[0;34m)\u001b[0m\u001b[0;34m\u001b[0m\u001b[0;34m\u001b[0m\u001b[0m\n\u001b[0m",
            "\u001b[0;32m<ipython-input-44-ecbc9debb515>\u001b[0m in \u001b[0;36mparsing_file_data\u001b[0;34m(nama_folder, nama_file)\u001b[0m\n\u001b[1;32m     15\u001b[0m     \u001b[0;31m# Validasi filename : apakah penulisan file benar dan merupakan file data?\u001b[0m\u001b[0;34m\u001b[0m\u001b[0;34m\u001b[0m\u001b[0m\n\u001b[1;32m     16\u001b[0m     \u001b[0;32mif\u001b[0m \u001b[0mvalidasi_file_data\u001b[0m\u001b[0;34m(\u001b[0m\u001b[0mnama_file\u001b[0m\u001b[0;34m)\u001b[0m \u001b[0;32mis\u001b[0m \u001b[0;32mFalse\u001b[0m\u001b[0;34m:\u001b[0m\u001b[0;34m\u001b[0m\u001b[0;34m\u001b[0m\u001b[0m\n\u001b[0;32m---> 17\u001b[0;31m       \u001b[0;32mraise\u001b[0m \u001b[0mValueError\u001b[0m\u001b[0;34m(\u001b[0m\u001b[0;34mf\"'{nama_file}' penulisannya tidak valid, atau bukan file Data.\"\u001b[0m\u001b[0;34m)\u001b[0m\u001b[0;34m\u001b[0m\u001b[0;34m\u001b[0m\u001b[0m\n\u001b[0m\u001b[1;32m     18\u001b[0m \u001b[0;34m\u001b[0m\u001b[0m\n\u001b[1;32m     19\u001b[0m     \u001b[0;31m# Membuat file_path, berdasarkan info dari argument pada fungsi\u001b[0m\u001b[0;34m\u001b[0m\u001b[0;34m\u001b[0m\u001b[0m\n",
            "\u001b[0;31mValueError\u001b[0m: 'rikrik_rahadian.pptx' penulisannya tidak valid, atau bukan file Data."
          ]
        }
      ]
    },
    {
      "cell_type": "code",
      "source": [
        "df_json = parsing_file_data('sample_data', 'anscombe.json')\n",
        "df_json.head()"
      ],
      "metadata": {
        "id": "oJG5lQpnmGrq",
        "colab": {
          "base_uri": "https://localhost:8080/",
          "height": 206
        },
        "outputId": "cd67452e-2294-4add-d786-bbf03dd0c431"
      },
      "execution_count": null,
      "outputs": [
        {
          "output_type": "execute_result",
          "data": {
            "text/plain": [
              "  Series   X     Y\n",
              "0      I  10  8.04\n",
              "1      I   8  6.95\n",
              "2      I  13  7.58\n",
              "3      I   9  8.81\n",
              "4      I  11  8.33"
            ],
            "text/html": [
              "\n",
              "  <div id=\"df-8bbf5bb8-ae64-4cca-803e-e5e91860a01b\" class=\"colab-df-container\">\n",
              "    <div>\n",
              "<style scoped>\n",
              "    .dataframe tbody tr th:only-of-type {\n",
              "        vertical-align: middle;\n",
              "    }\n",
              "\n",
              "    .dataframe tbody tr th {\n",
              "        vertical-align: top;\n",
              "    }\n",
              "\n",
              "    .dataframe thead th {\n",
              "        text-align: right;\n",
              "    }\n",
              "</style>\n",
              "<table border=\"1\" class=\"dataframe\">\n",
              "  <thead>\n",
              "    <tr style=\"text-align: right;\">\n",
              "      <th></th>\n",
              "      <th>Series</th>\n",
              "      <th>X</th>\n",
              "      <th>Y</th>\n",
              "    </tr>\n",
              "  </thead>\n",
              "  <tbody>\n",
              "    <tr>\n",
              "      <th>0</th>\n",
              "      <td>I</td>\n",
              "      <td>10</td>\n",
              "      <td>8.04</td>\n",
              "    </tr>\n",
              "    <tr>\n",
              "      <th>1</th>\n",
              "      <td>I</td>\n",
              "      <td>8</td>\n",
              "      <td>6.95</td>\n",
              "    </tr>\n",
              "    <tr>\n",
              "      <th>2</th>\n",
              "      <td>I</td>\n",
              "      <td>13</td>\n",
              "      <td>7.58</td>\n",
              "    </tr>\n",
              "    <tr>\n",
              "      <th>3</th>\n",
              "      <td>I</td>\n",
              "      <td>9</td>\n",
              "      <td>8.81</td>\n",
              "    </tr>\n",
              "    <tr>\n",
              "      <th>4</th>\n",
              "      <td>I</td>\n",
              "      <td>11</td>\n",
              "      <td>8.33</td>\n",
              "    </tr>\n",
              "  </tbody>\n",
              "</table>\n",
              "</div>\n",
              "    <div class=\"colab-df-buttons\">\n",
              "\n",
              "  <div class=\"colab-df-container\">\n",
              "    <button class=\"colab-df-convert\" onclick=\"convertToInteractive('df-8bbf5bb8-ae64-4cca-803e-e5e91860a01b')\"\n",
              "            title=\"Convert this dataframe to an interactive table.\"\n",
              "            style=\"display:none;\">\n",
              "\n",
              "  <svg xmlns=\"http://www.w3.org/2000/svg\" height=\"24px\" viewBox=\"0 -960 960 960\">\n",
              "    <path d=\"M120-120v-720h720v720H120Zm60-500h600v-160H180v160Zm220 220h160v-160H400v160Zm0 220h160v-160H400v160ZM180-400h160v-160H180v160Zm440 0h160v-160H620v160ZM180-180h160v-160H180v160Zm440 0h160v-160H620v160Z\"/>\n",
              "  </svg>\n",
              "    </button>\n",
              "\n",
              "  <style>\n",
              "    .colab-df-container {\n",
              "      display:flex;\n",
              "      gap: 12px;\n",
              "    }\n",
              "\n",
              "    .colab-df-convert {\n",
              "      background-color: #E8F0FE;\n",
              "      border: none;\n",
              "      border-radius: 50%;\n",
              "      cursor: pointer;\n",
              "      display: none;\n",
              "      fill: #1967D2;\n",
              "      height: 32px;\n",
              "      padding: 0 0 0 0;\n",
              "      width: 32px;\n",
              "    }\n",
              "\n",
              "    .colab-df-convert:hover {\n",
              "      background-color: #E2EBFA;\n",
              "      box-shadow: 0px 1px 2px rgba(60, 64, 67, 0.3), 0px 1px 3px 1px rgba(60, 64, 67, 0.15);\n",
              "      fill: #174EA6;\n",
              "    }\n",
              "\n",
              "    .colab-df-buttons div {\n",
              "      margin-bottom: 4px;\n",
              "    }\n",
              "\n",
              "    [theme=dark] .colab-df-convert {\n",
              "      background-color: #3B4455;\n",
              "      fill: #D2E3FC;\n",
              "    }\n",
              "\n",
              "    [theme=dark] .colab-df-convert:hover {\n",
              "      background-color: #434B5C;\n",
              "      box-shadow: 0px 1px 3px 1px rgba(0, 0, 0, 0.15);\n",
              "      filter: drop-shadow(0px 1px 2px rgba(0, 0, 0, 0.3));\n",
              "      fill: #FFFFFF;\n",
              "    }\n",
              "  </style>\n",
              "\n",
              "    <script>\n",
              "      const buttonEl =\n",
              "        document.querySelector('#df-8bbf5bb8-ae64-4cca-803e-e5e91860a01b button.colab-df-convert');\n",
              "      buttonEl.style.display =\n",
              "        google.colab.kernel.accessAllowed ? 'block' : 'none';\n",
              "\n",
              "      async function convertToInteractive(key) {\n",
              "        const element = document.querySelector('#df-8bbf5bb8-ae64-4cca-803e-e5e91860a01b');\n",
              "        const dataTable =\n",
              "          await google.colab.kernel.invokeFunction('convertToInteractive',\n",
              "                                                    [key], {});\n",
              "        if (!dataTable) return;\n",
              "\n",
              "        const docLinkHtml = 'Like what you see? Visit the ' +\n",
              "          '<a target=\"_blank\" href=https://colab.research.google.com/notebooks/data_table.ipynb>data table notebook</a>'\n",
              "          + ' to learn more about interactive tables.';\n",
              "        element.innerHTML = '';\n",
              "        dataTable['output_type'] = 'display_data';\n",
              "        await google.colab.output.renderOutput(dataTable, element);\n",
              "        const docLink = document.createElement('div');\n",
              "        docLink.innerHTML = docLinkHtml;\n",
              "        element.appendChild(docLink);\n",
              "      }\n",
              "    </script>\n",
              "  </div>\n",
              "\n",
              "\n",
              "<div id=\"df-d5bbcfa0-2a79-4775-b4c6-4352126cff87\">\n",
              "  <button class=\"colab-df-quickchart\" onclick=\"quickchart('df-d5bbcfa0-2a79-4775-b4c6-4352126cff87')\"\n",
              "            title=\"Suggest charts\"\n",
              "            style=\"display:none;\">\n",
              "\n",
              "<svg xmlns=\"http://www.w3.org/2000/svg\" height=\"24px\"viewBox=\"0 0 24 24\"\n",
              "     width=\"24px\">\n",
              "    <g>\n",
              "        <path d=\"M19 3H5c-1.1 0-2 .9-2 2v14c0 1.1.9 2 2 2h14c1.1 0 2-.9 2-2V5c0-1.1-.9-2-2-2zM9 17H7v-7h2v7zm4 0h-2V7h2v10zm4 0h-2v-4h2v4z\"/>\n",
              "    </g>\n",
              "</svg>\n",
              "  </button>\n",
              "\n",
              "<style>\n",
              "  .colab-df-quickchart {\n",
              "      --bg-color: #E8F0FE;\n",
              "      --fill-color: #1967D2;\n",
              "      --hover-bg-color: #E2EBFA;\n",
              "      --hover-fill-color: #174EA6;\n",
              "      --disabled-fill-color: #AAA;\n",
              "      --disabled-bg-color: #DDD;\n",
              "  }\n",
              "\n",
              "  [theme=dark] .colab-df-quickchart {\n",
              "      --bg-color: #3B4455;\n",
              "      --fill-color: #D2E3FC;\n",
              "      --hover-bg-color: #434B5C;\n",
              "      --hover-fill-color: #FFFFFF;\n",
              "      --disabled-bg-color: #3B4455;\n",
              "      --disabled-fill-color: #666;\n",
              "  }\n",
              "\n",
              "  .colab-df-quickchart {\n",
              "    background-color: var(--bg-color);\n",
              "    border: none;\n",
              "    border-radius: 50%;\n",
              "    cursor: pointer;\n",
              "    display: none;\n",
              "    fill: var(--fill-color);\n",
              "    height: 32px;\n",
              "    padding: 0;\n",
              "    width: 32px;\n",
              "  }\n",
              "\n",
              "  .colab-df-quickchart:hover {\n",
              "    background-color: var(--hover-bg-color);\n",
              "    box-shadow: 0 1px 2px rgba(60, 64, 67, 0.3), 0 1px 3px 1px rgba(60, 64, 67, 0.15);\n",
              "    fill: var(--button-hover-fill-color);\n",
              "  }\n",
              "\n",
              "  .colab-df-quickchart-complete:disabled,\n",
              "  .colab-df-quickchart-complete:disabled:hover {\n",
              "    background-color: var(--disabled-bg-color);\n",
              "    fill: var(--disabled-fill-color);\n",
              "    box-shadow: none;\n",
              "  }\n",
              "\n",
              "  .colab-df-spinner {\n",
              "    border: 2px solid var(--fill-color);\n",
              "    border-color: transparent;\n",
              "    border-bottom-color: var(--fill-color);\n",
              "    animation:\n",
              "      spin 1s steps(1) infinite;\n",
              "  }\n",
              "\n",
              "  @keyframes spin {\n",
              "    0% {\n",
              "      border-color: transparent;\n",
              "      border-bottom-color: var(--fill-color);\n",
              "      border-left-color: var(--fill-color);\n",
              "    }\n",
              "    20% {\n",
              "      border-color: transparent;\n",
              "      border-left-color: var(--fill-color);\n",
              "      border-top-color: var(--fill-color);\n",
              "    }\n",
              "    30% {\n",
              "      border-color: transparent;\n",
              "      border-left-color: var(--fill-color);\n",
              "      border-top-color: var(--fill-color);\n",
              "      border-right-color: var(--fill-color);\n",
              "    }\n",
              "    40% {\n",
              "      border-color: transparent;\n",
              "      border-right-color: var(--fill-color);\n",
              "      border-top-color: var(--fill-color);\n",
              "    }\n",
              "    60% {\n",
              "      border-color: transparent;\n",
              "      border-right-color: var(--fill-color);\n",
              "    }\n",
              "    80% {\n",
              "      border-color: transparent;\n",
              "      border-right-color: var(--fill-color);\n",
              "      border-bottom-color: var(--fill-color);\n",
              "    }\n",
              "    90% {\n",
              "      border-color: transparent;\n",
              "      border-bottom-color: var(--fill-color);\n",
              "    }\n",
              "  }\n",
              "</style>\n",
              "\n",
              "  <script>\n",
              "    async function quickchart(key) {\n",
              "      const quickchartButtonEl =\n",
              "        document.querySelector('#' + key + ' button');\n",
              "      quickchartButtonEl.disabled = true;  // To prevent multiple clicks.\n",
              "      quickchartButtonEl.classList.add('colab-df-spinner');\n",
              "      try {\n",
              "        const charts = await google.colab.kernel.invokeFunction(\n",
              "            'suggestCharts', [key], {});\n",
              "      } catch (error) {\n",
              "        console.error('Error during call to suggestCharts:', error);\n",
              "      }\n",
              "      quickchartButtonEl.classList.remove('colab-df-spinner');\n",
              "      quickchartButtonEl.classList.add('colab-df-quickchart-complete');\n",
              "    }\n",
              "    (() => {\n",
              "      let quickchartButtonEl =\n",
              "        document.querySelector('#df-d5bbcfa0-2a79-4775-b4c6-4352126cff87 button');\n",
              "      quickchartButtonEl.style.display =\n",
              "        google.colab.kernel.accessAllowed ? 'block' : 'none';\n",
              "    })();\n",
              "  </script>\n",
              "</div>\n",
              "\n",
              "    </div>\n",
              "  </div>\n"
            ],
            "application/vnd.google.colaboratory.intrinsic+json": {
              "type": "dataframe",
              "variable_name": "df_json",
              "summary": "{\n  \"name\": \"df_json\",\n  \"rows\": 44,\n  \"fields\": [\n    {\n      \"column\": \"Series\",\n      \"properties\": {\n        \"dtype\": \"category\",\n        \"num_unique_values\": 4,\n        \"samples\": [\n          \"II\",\n          \"IV\",\n          \"I\"\n        ],\n        \"semantic_type\": \"\",\n        \"description\": \"\"\n      }\n    },\n    {\n      \"column\": \"X\",\n      \"properties\": {\n        \"dtype\": \"number\",\n        \"std\": 3,\n        \"min\": 4,\n        \"max\": 19,\n        \"num_unique_values\": 12,\n        \"samples\": [\n          5,\n          7,\n          10\n        ],\n        \"semantic_type\": \"\",\n        \"description\": \"\"\n      }\n    },\n    {\n      \"column\": \"Y\",\n      \"properties\": {\n        \"dtype\": \"number\",\n        \"std\": 1.9592439863084528,\n        \"min\": 3.1,\n        \"max\": 12.74,\n        \"num_unique_values\": 43,\n        \"samples\": [\n          7.04,\n          12.74,\n          7.11\n        ],\n        \"semantic_type\": \"\",\n        \"description\": \"\"\n      }\n    }\n  ]\n}"
            }
          },
          "metadata": {},
          "execution_count": 49
        }
      ]
    },
    {
      "cell_type": "code",
      "source": [
        "df_csv = parsing_file_data('sample_data', 'california_housing_test.csv')\n",
        "df_csv.head()"
      ],
      "metadata": {
        "id": "x8V6-PWbqOhT",
        "colab": {
          "base_uri": "https://localhost:8080/",
          "height": 206
        },
        "outputId": "2fa1c30d-633a-4ede-cc4c-755aba56e70e"
      },
      "execution_count": null,
      "outputs": [
        {
          "output_type": "execute_result",
          "data": {
            "text/plain": [
              "   longitude  latitude  housing_median_age  total_rooms  total_bedrooms  \\\n",
              "0    -122.05     37.37                27.0       3885.0           661.0   \n",
              "1    -118.30     34.26                43.0       1510.0           310.0   \n",
              "2    -117.81     33.78                27.0       3589.0           507.0   \n",
              "3    -118.36     33.82                28.0         67.0            15.0   \n",
              "4    -119.67     36.33                19.0       1241.0           244.0   \n",
              "\n",
              "   population  households  median_income  median_house_value  \n",
              "0      1537.0       606.0         6.6085            344700.0  \n",
              "1       809.0       277.0         3.5990            176500.0  \n",
              "2      1484.0       495.0         5.7934            270500.0  \n",
              "3        49.0        11.0         6.1359            330000.0  \n",
              "4       850.0       237.0         2.9375             81700.0  "
            ],
            "text/html": [
              "\n",
              "  <div id=\"df-8269f2a1-67a9-43a4-bfb8-ffc8081b69b3\" class=\"colab-df-container\">\n",
              "    <div>\n",
              "<style scoped>\n",
              "    .dataframe tbody tr th:only-of-type {\n",
              "        vertical-align: middle;\n",
              "    }\n",
              "\n",
              "    .dataframe tbody tr th {\n",
              "        vertical-align: top;\n",
              "    }\n",
              "\n",
              "    .dataframe thead th {\n",
              "        text-align: right;\n",
              "    }\n",
              "</style>\n",
              "<table border=\"1\" class=\"dataframe\">\n",
              "  <thead>\n",
              "    <tr style=\"text-align: right;\">\n",
              "      <th></th>\n",
              "      <th>longitude</th>\n",
              "      <th>latitude</th>\n",
              "      <th>housing_median_age</th>\n",
              "      <th>total_rooms</th>\n",
              "      <th>total_bedrooms</th>\n",
              "      <th>population</th>\n",
              "      <th>households</th>\n",
              "      <th>median_income</th>\n",
              "      <th>median_house_value</th>\n",
              "    </tr>\n",
              "  </thead>\n",
              "  <tbody>\n",
              "    <tr>\n",
              "      <th>0</th>\n",
              "      <td>-122.05</td>\n",
              "      <td>37.37</td>\n",
              "      <td>27.0</td>\n",
              "      <td>3885.0</td>\n",
              "      <td>661.0</td>\n",
              "      <td>1537.0</td>\n",
              "      <td>606.0</td>\n",
              "      <td>6.6085</td>\n",
              "      <td>344700.0</td>\n",
              "    </tr>\n",
              "    <tr>\n",
              "      <th>1</th>\n",
              "      <td>-118.30</td>\n",
              "      <td>34.26</td>\n",
              "      <td>43.0</td>\n",
              "      <td>1510.0</td>\n",
              "      <td>310.0</td>\n",
              "      <td>809.0</td>\n",
              "      <td>277.0</td>\n",
              "      <td>3.5990</td>\n",
              "      <td>176500.0</td>\n",
              "    </tr>\n",
              "    <tr>\n",
              "      <th>2</th>\n",
              "      <td>-117.81</td>\n",
              "      <td>33.78</td>\n",
              "      <td>27.0</td>\n",
              "      <td>3589.0</td>\n",
              "      <td>507.0</td>\n",
              "      <td>1484.0</td>\n",
              "      <td>495.0</td>\n",
              "      <td>5.7934</td>\n",
              "      <td>270500.0</td>\n",
              "    </tr>\n",
              "    <tr>\n",
              "      <th>3</th>\n",
              "      <td>-118.36</td>\n",
              "      <td>33.82</td>\n",
              "      <td>28.0</td>\n",
              "      <td>67.0</td>\n",
              "      <td>15.0</td>\n",
              "      <td>49.0</td>\n",
              "      <td>11.0</td>\n",
              "      <td>6.1359</td>\n",
              "      <td>330000.0</td>\n",
              "    </tr>\n",
              "    <tr>\n",
              "      <th>4</th>\n",
              "      <td>-119.67</td>\n",
              "      <td>36.33</td>\n",
              "      <td>19.0</td>\n",
              "      <td>1241.0</td>\n",
              "      <td>244.0</td>\n",
              "      <td>850.0</td>\n",
              "      <td>237.0</td>\n",
              "      <td>2.9375</td>\n",
              "      <td>81700.0</td>\n",
              "    </tr>\n",
              "  </tbody>\n",
              "</table>\n",
              "</div>\n",
              "    <div class=\"colab-df-buttons\">\n",
              "\n",
              "  <div class=\"colab-df-container\">\n",
              "    <button class=\"colab-df-convert\" onclick=\"convertToInteractive('df-8269f2a1-67a9-43a4-bfb8-ffc8081b69b3')\"\n",
              "            title=\"Convert this dataframe to an interactive table.\"\n",
              "            style=\"display:none;\">\n",
              "\n",
              "  <svg xmlns=\"http://www.w3.org/2000/svg\" height=\"24px\" viewBox=\"0 -960 960 960\">\n",
              "    <path d=\"M120-120v-720h720v720H120Zm60-500h600v-160H180v160Zm220 220h160v-160H400v160Zm0 220h160v-160H400v160ZM180-400h160v-160H180v160Zm440 0h160v-160H620v160ZM180-180h160v-160H180v160Zm440 0h160v-160H620v160Z\"/>\n",
              "  </svg>\n",
              "    </button>\n",
              "\n",
              "  <style>\n",
              "    .colab-df-container {\n",
              "      display:flex;\n",
              "      gap: 12px;\n",
              "    }\n",
              "\n",
              "    .colab-df-convert {\n",
              "      background-color: #E8F0FE;\n",
              "      border: none;\n",
              "      border-radius: 50%;\n",
              "      cursor: pointer;\n",
              "      display: none;\n",
              "      fill: #1967D2;\n",
              "      height: 32px;\n",
              "      padding: 0 0 0 0;\n",
              "      width: 32px;\n",
              "    }\n",
              "\n",
              "    .colab-df-convert:hover {\n",
              "      background-color: #E2EBFA;\n",
              "      box-shadow: 0px 1px 2px rgba(60, 64, 67, 0.3), 0px 1px 3px 1px rgba(60, 64, 67, 0.15);\n",
              "      fill: #174EA6;\n",
              "    }\n",
              "\n",
              "    .colab-df-buttons div {\n",
              "      margin-bottom: 4px;\n",
              "    }\n",
              "\n",
              "    [theme=dark] .colab-df-convert {\n",
              "      background-color: #3B4455;\n",
              "      fill: #D2E3FC;\n",
              "    }\n",
              "\n",
              "    [theme=dark] .colab-df-convert:hover {\n",
              "      background-color: #434B5C;\n",
              "      box-shadow: 0px 1px 3px 1px rgba(0, 0, 0, 0.15);\n",
              "      filter: drop-shadow(0px 1px 2px rgba(0, 0, 0, 0.3));\n",
              "      fill: #FFFFFF;\n",
              "    }\n",
              "  </style>\n",
              "\n",
              "    <script>\n",
              "      const buttonEl =\n",
              "        document.querySelector('#df-8269f2a1-67a9-43a4-bfb8-ffc8081b69b3 button.colab-df-convert');\n",
              "      buttonEl.style.display =\n",
              "        google.colab.kernel.accessAllowed ? 'block' : 'none';\n",
              "\n",
              "      async function convertToInteractive(key) {\n",
              "        const element = document.querySelector('#df-8269f2a1-67a9-43a4-bfb8-ffc8081b69b3');\n",
              "        const dataTable =\n",
              "          await google.colab.kernel.invokeFunction('convertToInteractive',\n",
              "                                                    [key], {});\n",
              "        if (!dataTable) return;\n",
              "\n",
              "        const docLinkHtml = 'Like what you see? Visit the ' +\n",
              "          '<a target=\"_blank\" href=https://colab.research.google.com/notebooks/data_table.ipynb>data table notebook</a>'\n",
              "          + ' to learn more about interactive tables.';\n",
              "        element.innerHTML = '';\n",
              "        dataTable['output_type'] = 'display_data';\n",
              "        await google.colab.output.renderOutput(dataTable, element);\n",
              "        const docLink = document.createElement('div');\n",
              "        docLink.innerHTML = docLinkHtml;\n",
              "        element.appendChild(docLink);\n",
              "      }\n",
              "    </script>\n",
              "  </div>\n",
              "\n",
              "\n",
              "<div id=\"df-5689258f-4c1c-407f-918f-8e9a82d7c202\">\n",
              "  <button class=\"colab-df-quickchart\" onclick=\"quickchart('df-5689258f-4c1c-407f-918f-8e9a82d7c202')\"\n",
              "            title=\"Suggest charts\"\n",
              "            style=\"display:none;\">\n",
              "\n",
              "<svg xmlns=\"http://www.w3.org/2000/svg\" height=\"24px\"viewBox=\"0 0 24 24\"\n",
              "     width=\"24px\">\n",
              "    <g>\n",
              "        <path d=\"M19 3H5c-1.1 0-2 .9-2 2v14c0 1.1.9 2 2 2h14c1.1 0 2-.9 2-2V5c0-1.1-.9-2-2-2zM9 17H7v-7h2v7zm4 0h-2V7h2v10zm4 0h-2v-4h2v4z\"/>\n",
              "    </g>\n",
              "</svg>\n",
              "  </button>\n",
              "\n",
              "<style>\n",
              "  .colab-df-quickchart {\n",
              "      --bg-color: #E8F0FE;\n",
              "      --fill-color: #1967D2;\n",
              "      --hover-bg-color: #E2EBFA;\n",
              "      --hover-fill-color: #174EA6;\n",
              "      --disabled-fill-color: #AAA;\n",
              "      --disabled-bg-color: #DDD;\n",
              "  }\n",
              "\n",
              "  [theme=dark] .colab-df-quickchart {\n",
              "      --bg-color: #3B4455;\n",
              "      --fill-color: #D2E3FC;\n",
              "      --hover-bg-color: #434B5C;\n",
              "      --hover-fill-color: #FFFFFF;\n",
              "      --disabled-bg-color: #3B4455;\n",
              "      --disabled-fill-color: #666;\n",
              "  }\n",
              "\n",
              "  .colab-df-quickchart {\n",
              "    background-color: var(--bg-color);\n",
              "    border: none;\n",
              "    border-radius: 50%;\n",
              "    cursor: pointer;\n",
              "    display: none;\n",
              "    fill: var(--fill-color);\n",
              "    height: 32px;\n",
              "    padding: 0;\n",
              "    width: 32px;\n",
              "  }\n",
              "\n",
              "  .colab-df-quickchart:hover {\n",
              "    background-color: var(--hover-bg-color);\n",
              "    box-shadow: 0 1px 2px rgba(60, 64, 67, 0.3), 0 1px 3px 1px rgba(60, 64, 67, 0.15);\n",
              "    fill: var(--button-hover-fill-color);\n",
              "  }\n",
              "\n",
              "  .colab-df-quickchart-complete:disabled,\n",
              "  .colab-df-quickchart-complete:disabled:hover {\n",
              "    background-color: var(--disabled-bg-color);\n",
              "    fill: var(--disabled-fill-color);\n",
              "    box-shadow: none;\n",
              "  }\n",
              "\n",
              "  .colab-df-spinner {\n",
              "    border: 2px solid var(--fill-color);\n",
              "    border-color: transparent;\n",
              "    border-bottom-color: var(--fill-color);\n",
              "    animation:\n",
              "      spin 1s steps(1) infinite;\n",
              "  }\n",
              "\n",
              "  @keyframes spin {\n",
              "    0% {\n",
              "      border-color: transparent;\n",
              "      border-bottom-color: var(--fill-color);\n",
              "      border-left-color: var(--fill-color);\n",
              "    }\n",
              "    20% {\n",
              "      border-color: transparent;\n",
              "      border-left-color: var(--fill-color);\n",
              "      border-top-color: var(--fill-color);\n",
              "    }\n",
              "    30% {\n",
              "      border-color: transparent;\n",
              "      border-left-color: var(--fill-color);\n",
              "      border-top-color: var(--fill-color);\n",
              "      border-right-color: var(--fill-color);\n",
              "    }\n",
              "    40% {\n",
              "      border-color: transparent;\n",
              "      border-right-color: var(--fill-color);\n",
              "      border-top-color: var(--fill-color);\n",
              "    }\n",
              "    60% {\n",
              "      border-color: transparent;\n",
              "      border-right-color: var(--fill-color);\n",
              "    }\n",
              "    80% {\n",
              "      border-color: transparent;\n",
              "      border-right-color: var(--fill-color);\n",
              "      border-bottom-color: var(--fill-color);\n",
              "    }\n",
              "    90% {\n",
              "      border-color: transparent;\n",
              "      border-bottom-color: var(--fill-color);\n",
              "    }\n",
              "  }\n",
              "</style>\n",
              "\n",
              "  <script>\n",
              "    async function quickchart(key) {\n",
              "      const quickchartButtonEl =\n",
              "        document.querySelector('#' + key + ' button');\n",
              "      quickchartButtonEl.disabled = true;  // To prevent multiple clicks.\n",
              "      quickchartButtonEl.classList.add('colab-df-spinner');\n",
              "      try {\n",
              "        const charts = await google.colab.kernel.invokeFunction(\n",
              "            'suggestCharts', [key], {});\n",
              "      } catch (error) {\n",
              "        console.error('Error during call to suggestCharts:', error);\n",
              "      }\n",
              "      quickchartButtonEl.classList.remove('colab-df-spinner');\n",
              "      quickchartButtonEl.classList.add('colab-df-quickchart-complete');\n",
              "    }\n",
              "    (() => {\n",
              "      let quickchartButtonEl =\n",
              "        document.querySelector('#df-5689258f-4c1c-407f-918f-8e9a82d7c202 button');\n",
              "      quickchartButtonEl.style.display =\n",
              "        google.colab.kernel.accessAllowed ? 'block' : 'none';\n",
              "    })();\n",
              "  </script>\n",
              "</div>\n",
              "\n",
              "    </div>\n",
              "  </div>\n"
            ],
            "application/vnd.google.colaboratory.intrinsic+json": {
              "type": "dataframe",
              "variable_name": "df_csv",
              "summary": "{\n  \"name\": \"df_csv\",\n  \"rows\": 3000,\n  \"fields\": [\n    {\n      \"column\": \"longitude\",\n      \"properties\": {\n        \"dtype\": \"number\",\n        \"std\": 1.9949362939550161,\n        \"min\": -124.18,\n        \"max\": -114.49,\n        \"num_unique_values\": 607,\n        \"samples\": [\n          -121.15,\n          -121.46,\n          -121.02\n        ],\n        \"semantic_type\": \"\",\n        \"description\": \"\"\n      }\n    },\n    {\n      \"column\": \"latitude\",\n      \"properties\": {\n        \"dtype\": \"number\",\n        \"std\": 2.1296695233438325,\n        \"min\": 32.56,\n        \"max\": 41.92,\n        \"num_unique_values\": 587,\n        \"samples\": [\n          40.17,\n          33.69,\n          39.61\n        ],\n        \"semantic_type\": \"\",\n        \"description\": \"\"\n      }\n    },\n    {\n      \"column\": \"housing_median_age\",\n      \"properties\": {\n        \"dtype\": \"number\",\n        \"std\": 12.555395554955755,\n        \"min\": 1.0,\n        \"max\": 52.0,\n        \"num_unique_values\": 52,\n        \"samples\": [\n          14.0,\n          49.0,\n          7.0\n        ],\n        \"semantic_type\": \"\",\n        \"description\": \"\"\n      }\n    },\n    {\n      \"column\": \"total_rooms\",\n      \"properties\": {\n        \"dtype\": \"number\",\n        \"std\": 2155.59333162558,\n        \"min\": 6.0,\n        \"max\": 30450.0,\n        \"num_unique_values\": 2215,\n        \"samples\": [\n          1961.0,\n          1807.0,\n          680.0\n        ],\n        \"semantic_type\": \"\",\n        \"description\": \"\"\n      }\n    },\n    {\n      \"column\": \"total_bedrooms\",\n      \"properties\": {\n        \"dtype\": \"number\",\n        \"std\": 415.6543681363232,\n        \"min\": 2.0,\n        \"max\": 5419.0,\n        \"num_unique_values\": 1055,\n        \"samples\": [\n          532.0,\n          764.0,\n          2162.0\n        ],\n        \"semantic_type\": \"\",\n        \"description\": \"\"\n      }\n    },\n    {\n      \"column\": \"population\",\n      \"properties\": {\n        \"dtype\": \"number\",\n        \"std\": 1030.5430124122422,\n        \"min\": 5.0,\n        \"max\": 11935.0,\n        \"num_unique_values\": 1802,\n        \"samples\": [\n          947.0,\n          1140.0,\n          2019.0\n        ],\n        \"semantic_type\": \"\",\n        \"description\": \"\"\n      }\n    },\n    {\n      \"column\": \"households\",\n      \"properties\": {\n        \"dtype\": \"number\",\n        \"std\": 365.42270980552604,\n        \"min\": 2.0,\n        \"max\": 4930.0,\n        \"num_unique_values\": 1026,\n        \"samples\": [\n          646.0,\n          629.0,\n          504.0\n        ],\n        \"semantic_type\": \"\",\n        \"description\": \"\"\n      }\n    },\n    {\n      \"column\": \"median_income\",\n      \"properties\": {\n        \"dtype\": \"number\",\n        \"std\": 1.854511729691481,\n        \"min\": 0.4999,\n        \"max\": 15.0001,\n        \"num_unique_values\": 2578,\n        \"samples\": [\n          1.725,\n          0.7403,\n          2.6964\n        ],\n        \"semantic_type\": \"\",\n        \"description\": \"\"\n      }\n    },\n    {\n      \"column\": \"median_house_value\",\n      \"properties\": {\n        \"dtype\": \"number\",\n        \"std\": 113119.68746964433,\n        \"min\": 22500.0,\n        \"max\": 500001.0,\n        \"num_unique_values\": 1784,\n        \"samples\": [\n          71900.0,\n          63000.0,\n          115800.0\n        ],\n        \"semantic_type\": \"\",\n        \"description\": \"\"\n      }\n    }\n  ]\n}"
            }
          },
          "metadata": {},
          "execution_count": 50
        }
      ]
    },
    {
      "cell_type": "markdown",
      "source": [
        "### EXERCISE 2\n",
        "Pada exercise kali ini, kita akan coba untuk melakukan `parsing` seluruh data yang tersimpan pada setiap file pada folder `sample_data`, lalu menyimpannya ke sebuah `dictionary` yang berisi pasangan `key` berupa `nama_file` dan `value` berupa `DataFrame` berisi data hasil `parsing` dari file terkait.\n",
        "\n",
        "Untuk melakukan exercise ini, maka kita akan menggunakan beberapa objek berikut:\n",
        "1. List `folder_data` yang telah kita hasilkan dari **EXERCISE 1** di bagian terdahulu;\n",
        "2. fungsi `parsing_file_data` yang telah kita buat pada **Ilustrasi 12** sebelumnya."
      ],
      "metadata": {
        "id": "r3Y2LxIhru4X"
      }
    },
    {
      "cell_type": "code",
      "source": [
        "folder_data.keys()"
      ],
      "metadata": {
        "colab": {
          "base_uri": "https://localhost:8080/"
        },
        "id": "Uq_Eyind6W0J",
        "outputId": "e251faef-de93-4a2c-ecea-f16ad3763db7"
      },
      "execution_count": null,
      "outputs": [
        {
          "output_type": "execute_result",
          "data": {
            "text/plain": [
              "dict_keys(['sample_data'])"
            ]
          },
          "metadata": {},
          "execution_count": 52
        }
      ]
    },
    {
      "cell_type": "code",
      "source": [
        "# Buat sebuah dictionary kosong untuk placeholder\n",
        "dictionary_for_data = dict()\n",
        "\n",
        "# Buat loop untuk membaca setiap key pada dictionary folder_data\n",
        "for key in folder_data.keys():\n",
        "    # Parse data pada setiap file yang terdaftar pada folder_data[folder]\n",
        "    for nama_file in folder_data[key]:\n",
        "        dictionary_for_data[nama_file]=parsing_file_data(key, nama_file)"
      ],
      "metadata": {
        "id": "gvhjqUKfQQ9m"
      },
      "execution_count": null,
      "outputs": []
    },
    {
      "cell_type": "code",
      "source": [
        "# Cek isi dari dictionary\n",
        "dictionary_for_data.keys()"
      ],
      "metadata": {
        "id": "G6QGHS6kQuhT",
        "colab": {
          "base_uri": "https://localhost:8080/"
        },
        "outputId": "85582a22-fbda-4d1d-f3bf-e109add0216a"
      },
      "execution_count": null,
      "outputs": [
        {
          "output_type": "execute_result",
          "data": {
            "text/plain": [
              "dict_keys(['anscombe.json', 'california_housing_test.csv', 'mnist_train_small.csv', 'california_housing_train.csv', 'mnist_test.csv'])"
            ]
          },
          "metadata": {},
          "execution_count": 55
        }
      ]
    },
    {
      "cell_type": "code",
      "source": [
        "dictionary_for_data['california_housing_test.csv']"
      ],
      "metadata": {
        "colab": {
          "base_uri": "https://localhost:8080/",
          "height": 423
        },
        "id": "y3pYWseP7fe3",
        "outputId": "cbdae516-7e8d-441d-8087-86943e24cf7c"
      },
      "execution_count": null,
      "outputs": [
        {
          "output_type": "execute_result",
          "data": {
            "text/plain": [
              "      longitude  latitude  housing_median_age  total_rooms  total_bedrooms  \\\n",
              "0       -122.05     37.37                27.0       3885.0           661.0   \n",
              "1       -118.30     34.26                43.0       1510.0           310.0   \n",
              "2       -117.81     33.78                27.0       3589.0           507.0   \n",
              "3       -118.36     33.82                28.0         67.0            15.0   \n",
              "4       -119.67     36.33                19.0       1241.0           244.0   \n",
              "...         ...       ...                 ...          ...             ...   \n",
              "2995    -119.86     34.42                23.0       1450.0           642.0   \n",
              "2996    -118.14     34.06                27.0       5257.0          1082.0   \n",
              "2997    -119.70     36.30                10.0        956.0           201.0   \n",
              "2998    -117.12     34.10                40.0         96.0            14.0   \n",
              "2999    -119.63     34.42                42.0       1765.0           263.0   \n",
              "\n",
              "      population  households  median_income  median_house_value  \n",
              "0         1537.0       606.0         6.6085            344700.0  \n",
              "1          809.0       277.0         3.5990            176500.0  \n",
              "2         1484.0       495.0         5.7934            270500.0  \n",
              "3           49.0        11.0         6.1359            330000.0  \n",
              "4          850.0       237.0         2.9375             81700.0  \n",
              "...          ...         ...            ...                 ...  \n",
              "2995      1258.0       607.0         1.1790            225000.0  \n",
              "2996      3496.0      1036.0         3.3906            237200.0  \n",
              "2997       693.0       220.0         2.2895             62000.0  \n",
              "2998        46.0        14.0         3.2708            162500.0  \n",
              "2999       753.0       260.0         8.5608            500001.0  \n",
              "\n",
              "[3000 rows x 9 columns]"
            ],
            "text/html": [
              "\n",
              "  <div id=\"df-74230b07-2937-469c-814b-45cf41ae0e7d\" class=\"colab-df-container\">\n",
              "    <div>\n",
              "<style scoped>\n",
              "    .dataframe tbody tr th:only-of-type {\n",
              "        vertical-align: middle;\n",
              "    }\n",
              "\n",
              "    .dataframe tbody tr th {\n",
              "        vertical-align: top;\n",
              "    }\n",
              "\n",
              "    .dataframe thead th {\n",
              "        text-align: right;\n",
              "    }\n",
              "</style>\n",
              "<table border=\"1\" class=\"dataframe\">\n",
              "  <thead>\n",
              "    <tr style=\"text-align: right;\">\n",
              "      <th></th>\n",
              "      <th>longitude</th>\n",
              "      <th>latitude</th>\n",
              "      <th>housing_median_age</th>\n",
              "      <th>total_rooms</th>\n",
              "      <th>total_bedrooms</th>\n",
              "      <th>population</th>\n",
              "      <th>households</th>\n",
              "      <th>median_income</th>\n",
              "      <th>median_house_value</th>\n",
              "    </tr>\n",
              "  </thead>\n",
              "  <tbody>\n",
              "    <tr>\n",
              "      <th>0</th>\n",
              "      <td>-122.05</td>\n",
              "      <td>37.37</td>\n",
              "      <td>27.0</td>\n",
              "      <td>3885.0</td>\n",
              "      <td>661.0</td>\n",
              "      <td>1537.0</td>\n",
              "      <td>606.0</td>\n",
              "      <td>6.6085</td>\n",
              "      <td>344700.0</td>\n",
              "    </tr>\n",
              "    <tr>\n",
              "      <th>1</th>\n",
              "      <td>-118.30</td>\n",
              "      <td>34.26</td>\n",
              "      <td>43.0</td>\n",
              "      <td>1510.0</td>\n",
              "      <td>310.0</td>\n",
              "      <td>809.0</td>\n",
              "      <td>277.0</td>\n",
              "      <td>3.5990</td>\n",
              "      <td>176500.0</td>\n",
              "    </tr>\n",
              "    <tr>\n",
              "      <th>2</th>\n",
              "      <td>-117.81</td>\n",
              "      <td>33.78</td>\n",
              "      <td>27.0</td>\n",
              "      <td>3589.0</td>\n",
              "      <td>507.0</td>\n",
              "      <td>1484.0</td>\n",
              "      <td>495.0</td>\n",
              "      <td>5.7934</td>\n",
              "      <td>270500.0</td>\n",
              "    </tr>\n",
              "    <tr>\n",
              "      <th>3</th>\n",
              "      <td>-118.36</td>\n",
              "      <td>33.82</td>\n",
              "      <td>28.0</td>\n",
              "      <td>67.0</td>\n",
              "      <td>15.0</td>\n",
              "      <td>49.0</td>\n",
              "      <td>11.0</td>\n",
              "      <td>6.1359</td>\n",
              "      <td>330000.0</td>\n",
              "    </tr>\n",
              "    <tr>\n",
              "      <th>4</th>\n",
              "      <td>-119.67</td>\n",
              "      <td>36.33</td>\n",
              "      <td>19.0</td>\n",
              "      <td>1241.0</td>\n",
              "      <td>244.0</td>\n",
              "      <td>850.0</td>\n",
              "      <td>237.0</td>\n",
              "      <td>2.9375</td>\n",
              "      <td>81700.0</td>\n",
              "    </tr>\n",
              "    <tr>\n",
              "      <th>...</th>\n",
              "      <td>...</td>\n",
              "      <td>...</td>\n",
              "      <td>...</td>\n",
              "      <td>...</td>\n",
              "      <td>...</td>\n",
              "      <td>...</td>\n",
              "      <td>...</td>\n",
              "      <td>...</td>\n",
              "      <td>...</td>\n",
              "    </tr>\n",
              "    <tr>\n",
              "      <th>2995</th>\n",
              "      <td>-119.86</td>\n",
              "      <td>34.42</td>\n",
              "      <td>23.0</td>\n",
              "      <td>1450.0</td>\n",
              "      <td>642.0</td>\n",
              "      <td>1258.0</td>\n",
              "      <td>607.0</td>\n",
              "      <td>1.1790</td>\n",
              "      <td>225000.0</td>\n",
              "    </tr>\n",
              "    <tr>\n",
              "      <th>2996</th>\n",
              "      <td>-118.14</td>\n",
              "      <td>34.06</td>\n",
              "      <td>27.0</td>\n",
              "      <td>5257.0</td>\n",
              "      <td>1082.0</td>\n",
              "      <td>3496.0</td>\n",
              "      <td>1036.0</td>\n",
              "      <td>3.3906</td>\n",
              "      <td>237200.0</td>\n",
              "    </tr>\n",
              "    <tr>\n",
              "      <th>2997</th>\n",
              "      <td>-119.70</td>\n",
              "      <td>36.30</td>\n",
              "      <td>10.0</td>\n",
              "      <td>956.0</td>\n",
              "      <td>201.0</td>\n",
              "      <td>693.0</td>\n",
              "      <td>220.0</td>\n",
              "      <td>2.2895</td>\n",
              "      <td>62000.0</td>\n",
              "    </tr>\n",
              "    <tr>\n",
              "      <th>2998</th>\n",
              "      <td>-117.12</td>\n",
              "      <td>34.10</td>\n",
              "      <td>40.0</td>\n",
              "      <td>96.0</td>\n",
              "      <td>14.0</td>\n",
              "      <td>46.0</td>\n",
              "      <td>14.0</td>\n",
              "      <td>3.2708</td>\n",
              "      <td>162500.0</td>\n",
              "    </tr>\n",
              "    <tr>\n",
              "      <th>2999</th>\n",
              "      <td>-119.63</td>\n",
              "      <td>34.42</td>\n",
              "      <td>42.0</td>\n",
              "      <td>1765.0</td>\n",
              "      <td>263.0</td>\n",
              "      <td>753.0</td>\n",
              "      <td>260.0</td>\n",
              "      <td>8.5608</td>\n",
              "      <td>500001.0</td>\n",
              "    </tr>\n",
              "  </tbody>\n",
              "</table>\n",
              "<p>3000 rows × 9 columns</p>\n",
              "</div>\n",
              "    <div class=\"colab-df-buttons\">\n",
              "\n",
              "  <div class=\"colab-df-container\">\n",
              "    <button class=\"colab-df-convert\" onclick=\"convertToInteractive('df-74230b07-2937-469c-814b-45cf41ae0e7d')\"\n",
              "            title=\"Convert this dataframe to an interactive table.\"\n",
              "            style=\"display:none;\">\n",
              "\n",
              "  <svg xmlns=\"http://www.w3.org/2000/svg\" height=\"24px\" viewBox=\"0 -960 960 960\">\n",
              "    <path d=\"M120-120v-720h720v720H120Zm60-500h600v-160H180v160Zm220 220h160v-160H400v160Zm0 220h160v-160H400v160ZM180-400h160v-160H180v160Zm440 0h160v-160H620v160ZM180-180h160v-160H180v160Zm440 0h160v-160H620v160Z\"/>\n",
              "  </svg>\n",
              "    </button>\n",
              "\n",
              "  <style>\n",
              "    .colab-df-container {\n",
              "      display:flex;\n",
              "      gap: 12px;\n",
              "    }\n",
              "\n",
              "    .colab-df-convert {\n",
              "      background-color: #E8F0FE;\n",
              "      border: none;\n",
              "      border-radius: 50%;\n",
              "      cursor: pointer;\n",
              "      display: none;\n",
              "      fill: #1967D2;\n",
              "      height: 32px;\n",
              "      padding: 0 0 0 0;\n",
              "      width: 32px;\n",
              "    }\n",
              "\n",
              "    .colab-df-convert:hover {\n",
              "      background-color: #E2EBFA;\n",
              "      box-shadow: 0px 1px 2px rgba(60, 64, 67, 0.3), 0px 1px 3px 1px rgba(60, 64, 67, 0.15);\n",
              "      fill: #174EA6;\n",
              "    }\n",
              "\n",
              "    .colab-df-buttons div {\n",
              "      margin-bottom: 4px;\n",
              "    }\n",
              "\n",
              "    [theme=dark] .colab-df-convert {\n",
              "      background-color: #3B4455;\n",
              "      fill: #D2E3FC;\n",
              "    }\n",
              "\n",
              "    [theme=dark] .colab-df-convert:hover {\n",
              "      background-color: #434B5C;\n",
              "      box-shadow: 0px 1px 3px 1px rgba(0, 0, 0, 0.15);\n",
              "      filter: drop-shadow(0px 1px 2px rgba(0, 0, 0, 0.3));\n",
              "      fill: #FFFFFF;\n",
              "    }\n",
              "  </style>\n",
              "\n",
              "    <script>\n",
              "      const buttonEl =\n",
              "        document.querySelector('#df-74230b07-2937-469c-814b-45cf41ae0e7d button.colab-df-convert');\n",
              "      buttonEl.style.display =\n",
              "        google.colab.kernel.accessAllowed ? 'block' : 'none';\n",
              "\n",
              "      async function convertToInteractive(key) {\n",
              "        const element = document.querySelector('#df-74230b07-2937-469c-814b-45cf41ae0e7d');\n",
              "        const dataTable =\n",
              "          await google.colab.kernel.invokeFunction('convertToInteractive',\n",
              "                                                    [key], {});\n",
              "        if (!dataTable) return;\n",
              "\n",
              "        const docLinkHtml = 'Like what you see? Visit the ' +\n",
              "          '<a target=\"_blank\" href=https://colab.research.google.com/notebooks/data_table.ipynb>data table notebook</a>'\n",
              "          + ' to learn more about interactive tables.';\n",
              "        element.innerHTML = '';\n",
              "        dataTable['output_type'] = 'display_data';\n",
              "        await google.colab.output.renderOutput(dataTable, element);\n",
              "        const docLink = document.createElement('div');\n",
              "        docLink.innerHTML = docLinkHtml;\n",
              "        element.appendChild(docLink);\n",
              "      }\n",
              "    </script>\n",
              "  </div>\n",
              "\n",
              "\n",
              "<div id=\"df-a4371a17-1195-402f-b495-9d1738e7230f\">\n",
              "  <button class=\"colab-df-quickchart\" onclick=\"quickchart('df-a4371a17-1195-402f-b495-9d1738e7230f')\"\n",
              "            title=\"Suggest charts\"\n",
              "            style=\"display:none;\">\n",
              "\n",
              "<svg xmlns=\"http://www.w3.org/2000/svg\" height=\"24px\"viewBox=\"0 0 24 24\"\n",
              "     width=\"24px\">\n",
              "    <g>\n",
              "        <path d=\"M19 3H5c-1.1 0-2 .9-2 2v14c0 1.1.9 2 2 2h14c1.1 0 2-.9 2-2V5c0-1.1-.9-2-2-2zM9 17H7v-7h2v7zm4 0h-2V7h2v10zm4 0h-2v-4h2v4z\"/>\n",
              "    </g>\n",
              "</svg>\n",
              "  </button>\n",
              "\n",
              "<style>\n",
              "  .colab-df-quickchart {\n",
              "      --bg-color: #E8F0FE;\n",
              "      --fill-color: #1967D2;\n",
              "      --hover-bg-color: #E2EBFA;\n",
              "      --hover-fill-color: #174EA6;\n",
              "      --disabled-fill-color: #AAA;\n",
              "      --disabled-bg-color: #DDD;\n",
              "  }\n",
              "\n",
              "  [theme=dark] .colab-df-quickchart {\n",
              "      --bg-color: #3B4455;\n",
              "      --fill-color: #D2E3FC;\n",
              "      --hover-bg-color: #434B5C;\n",
              "      --hover-fill-color: #FFFFFF;\n",
              "      --disabled-bg-color: #3B4455;\n",
              "      --disabled-fill-color: #666;\n",
              "  }\n",
              "\n",
              "  .colab-df-quickchart {\n",
              "    background-color: var(--bg-color);\n",
              "    border: none;\n",
              "    border-radius: 50%;\n",
              "    cursor: pointer;\n",
              "    display: none;\n",
              "    fill: var(--fill-color);\n",
              "    height: 32px;\n",
              "    padding: 0;\n",
              "    width: 32px;\n",
              "  }\n",
              "\n",
              "  .colab-df-quickchart:hover {\n",
              "    background-color: var(--hover-bg-color);\n",
              "    box-shadow: 0 1px 2px rgba(60, 64, 67, 0.3), 0 1px 3px 1px rgba(60, 64, 67, 0.15);\n",
              "    fill: var(--button-hover-fill-color);\n",
              "  }\n",
              "\n",
              "  .colab-df-quickchart-complete:disabled,\n",
              "  .colab-df-quickchart-complete:disabled:hover {\n",
              "    background-color: var(--disabled-bg-color);\n",
              "    fill: var(--disabled-fill-color);\n",
              "    box-shadow: none;\n",
              "  }\n",
              "\n",
              "  .colab-df-spinner {\n",
              "    border: 2px solid var(--fill-color);\n",
              "    border-color: transparent;\n",
              "    border-bottom-color: var(--fill-color);\n",
              "    animation:\n",
              "      spin 1s steps(1) infinite;\n",
              "  }\n",
              "\n",
              "  @keyframes spin {\n",
              "    0% {\n",
              "      border-color: transparent;\n",
              "      border-bottom-color: var(--fill-color);\n",
              "      border-left-color: var(--fill-color);\n",
              "    }\n",
              "    20% {\n",
              "      border-color: transparent;\n",
              "      border-left-color: var(--fill-color);\n",
              "      border-top-color: var(--fill-color);\n",
              "    }\n",
              "    30% {\n",
              "      border-color: transparent;\n",
              "      border-left-color: var(--fill-color);\n",
              "      border-top-color: var(--fill-color);\n",
              "      border-right-color: var(--fill-color);\n",
              "    }\n",
              "    40% {\n",
              "      border-color: transparent;\n",
              "      border-right-color: var(--fill-color);\n",
              "      border-top-color: var(--fill-color);\n",
              "    }\n",
              "    60% {\n",
              "      border-color: transparent;\n",
              "      border-right-color: var(--fill-color);\n",
              "    }\n",
              "    80% {\n",
              "      border-color: transparent;\n",
              "      border-right-color: var(--fill-color);\n",
              "      border-bottom-color: var(--fill-color);\n",
              "    }\n",
              "    90% {\n",
              "      border-color: transparent;\n",
              "      border-bottom-color: var(--fill-color);\n",
              "    }\n",
              "  }\n",
              "</style>\n",
              "\n",
              "  <script>\n",
              "    async function quickchart(key) {\n",
              "      const quickchartButtonEl =\n",
              "        document.querySelector('#' + key + ' button');\n",
              "      quickchartButtonEl.disabled = true;  // To prevent multiple clicks.\n",
              "      quickchartButtonEl.classList.add('colab-df-spinner');\n",
              "      try {\n",
              "        const charts = await google.colab.kernel.invokeFunction(\n",
              "            'suggestCharts', [key], {});\n",
              "      } catch (error) {\n",
              "        console.error('Error during call to suggestCharts:', error);\n",
              "      }\n",
              "      quickchartButtonEl.classList.remove('colab-df-spinner');\n",
              "      quickchartButtonEl.classList.add('colab-df-quickchart-complete');\n",
              "    }\n",
              "    (() => {\n",
              "      let quickchartButtonEl =\n",
              "        document.querySelector('#df-a4371a17-1195-402f-b495-9d1738e7230f button');\n",
              "      quickchartButtonEl.style.display =\n",
              "        google.colab.kernel.accessAllowed ? 'block' : 'none';\n",
              "    })();\n",
              "  </script>\n",
              "</div>\n",
              "\n",
              "    </div>\n",
              "  </div>\n"
            ],
            "application/vnd.google.colaboratory.intrinsic+json": {
              "type": "dataframe",
              "summary": "{\n  \"name\": \"dictionary_for_data['california_housing_test\",\n  \"rows\": 3000,\n  \"fields\": [\n    {\n      \"column\": \"longitude\",\n      \"properties\": {\n        \"dtype\": \"number\",\n        \"std\": 1.9949362939550161,\n        \"min\": -124.18,\n        \"max\": -114.49,\n        \"num_unique_values\": 607,\n        \"samples\": [\n          -121.15,\n          -121.46,\n          -121.02\n        ],\n        \"semantic_type\": \"\",\n        \"description\": \"\"\n      }\n    },\n    {\n      \"column\": \"latitude\",\n      \"properties\": {\n        \"dtype\": \"number\",\n        \"std\": 2.1296695233438325,\n        \"min\": 32.56,\n        \"max\": 41.92,\n        \"num_unique_values\": 587,\n        \"samples\": [\n          40.17,\n          33.69,\n          39.61\n        ],\n        \"semantic_type\": \"\",\n        \"description\": \"\"\n      }\n    },\n    {\n      \"column\": \"housing_median_age\",\n      \"properties\": {\n        \"dtype\": \"number\",\n        \"std\": 12.555395554955755,\n        \"min\": 1.0,\n        \"max\": 52.0,\n        \"num_unique_values\": 52,\n        \"samples\": [\n          14.0,\n          49.0,\n          7.0\n        ],\n        \"semantic_type\": \"\",\n        \"description\": \"\"\n      }\n    },\n    {\n      \"column\": \"total_rooms\",\n      \"properties\": {\n        \"dtype\": \"number\",\n        \"std\": 2155.59333162558,\n        \"min\": 6.0,\n        \"max\": 30450.0,\n        \"num_unique_values\": 2215,\n        \"samples\": [\n          1961.0,\n          1807.0,\n          680.0\n        ],\n        \"semantic_type\": \"\",\n        \"description\": \"\"\n      }\n    },\n    {\n      \"column\": \"total_bedrooms\",\n      \"properties\": {\n        \"dtype\": \"number\",\n        \"std\": 415.6543681363232,\n        \"min\": 2.0,\n        \"max\": 5419.0,\n        \"num_unique_values\": 1055,\n        \"samples\": [\n          532.0,\n          764.0,\n          2162.0\n        ],\n        \"semantic_type\": \"\",\n        \"description\": \"\"\n      }\n    },\n    {\n      \"column\": \"population\",\n      \"properties\": {\n        \"dtype\": \"number\",\n        \"std\": 1030.5430124122422,\n        \"min\": 5.0,\n        \"max\": 11935.0,\n        \"num_unique_values\": 1802,\n        \"samples\": [\n          947.0,\n          1140.0,\n          2019.0\n        ],\n        \"semantic_type\": \"\",\n        \"description\": \"\"\n      }\n    },\n    {\n      \"column\": \"households\",\n      \"properties\": {\n        \"dtype\": \"number\",\n        \"std\": 365.42270980552604,\n        \"min\": 2.0,\n        \"max\": 4930.0,\n        \"num_unique_values\": 1026,\n        \"samples\": [\n          646.0,\n          629.0,\n          504.0\n        ],\n        \"semantic_type\": \"\",\n        \"description\": \"\"\n      }\n    },\n    {\n      \"column\": \"median_income\",\n      \"properties\": {\n        \"dtype\": \"number\",\n        \"std\": 1.854511729691481,\n        \"min\": 0.4999,\n        \"max\": 15.0001,\n        \"num_unique_values\": 2578,\n        \"samples\": [\n          1.725,\n          0.7403,\n          2.6964\n        ],\n        \"semantic_type\": \"\",\n        \"description\": \"\"\n      }\n    },\n    {\n      \"column\": \"median_house_value\",\n      \"properties\": {\n        \"dtype\": \"number\",\n        \"std\": 113119.68746964433,\n        \"min\": 22500.0,\n        \"max\": 500001.0,\n        \"num_unique_values\": 1784,\n        \"samples\": [\n          71900.0,\n          63000.0,\n          115800.0\n        ],\n        \"semantic_type\": \"\",\n        \"description\": \"\"\n      }\n    }\n  ]\n}"
            }
          },
          "metadata": {},
          "execution_count": 57
        }
      ]
    },
    {
      "cell_type": "code",
      "source": [],
      "metadata": {
        "id": "z9IJwQMV7qF_"
      },
      "execution_count": null,
      "outputs": []
    }
  ]
}